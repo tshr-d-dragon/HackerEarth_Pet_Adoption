{
  "nbformat": 4,
  "nbformat_minor": 0,
  "metadata": {
    "kernelspec": {
      "display_name": "Python 3",
      "language": "python",
      "name": "python3"
    },
    "language_info": {
      "codemirror_mode": {
        "name": "ipython",
        "version": 3
      },
      "file_extension": ".py",
      "mimetype": "text/x-python",
      "name": "python",
      "nbconvert_exporter": "python",
      "pygments_lexer": "ipython3",
      "version": "3.7.6"
    },
    "colab": {
      "name": "Pet_adoption.ipynb",
      "provenance": []
    }
  },
  "cells": [
    {
      "cell_type": "code",
      "metadata": {
        "id": "V5VWouUQvb7D"
      },
      "source": [
        "from sklearn.neural_network import MLPClassifier\n",
        "import numpy as np\n",
        "import pandas as pd\n",
        "import matplotlib.pyplot as plt\n",
        "import seaborn as sns\n",
        "from sklearn.model_selection import train_test_split\n",
        "from sklearn import metrics\n",
        "from sklearn.model_selection import GridSearchCV\n",
        "from sklearn.linear_model import LogisticRegression\n",
        "from sklearn.svm import SVC, LinearSVC\n",
        "from sklearn.ensemble import RandomForestClassifier,AdaBoostClassifier,ExtraTreesClassifier,BaggingClassifier\n",
        "from sklearn.ensemble import GradientBoostingClassifier\n",
        "from sklearn.metrics import classification_report\n",
        "from sklearn.metrics import confusion_matrix\n",
        "from sklearn.preprocessing import RobustScaler\n",
        "from sklearn.neighbors import KNeighborsClassifier\n",
        "from sklearn.tree import DecisionTreeClassifier\n",
        "import xgboost as xgb\n",
        "import lightgbm as lgb\n",
        "import catboost as cb\n",
        "from imblearn.over_sampling import RandomOverSampler\n",
        "from imblearn.combine import SMOTETomek\n",
        "import statsmodels.api as sm\n",
        "from scipy.stats import boxcox\n",
        "from scipy import stats\n",
        "import pylab\n",
        "from sklearn.model_selection import cross_val_score, StratifiedKFold\n"
      ],
      "execution_count": null,
      "outputs": []
    },
    {
      "cell_type": "code",
      "metadata": {
        "id": "SoWhI6GGvb7P"
      },
      "source": [
        "\n",
        "test = pd.read_csv('HE/Pet_adoption/test.csv')\n",
        "train = pd.read_csv('HE/Pet_adoption/train.csv')\n"
      ],
      "execution_count": null,
      "outputs": []
    },
    {
      "cell_type": "code",
      "metadata": {
        "id": "NUsGfwNYvb7Q",
        "outputId": "58811b49-de28-4e5a-e656-b66af23285b6"
      },
      "source": [
        "train.describe().T"
      ],
      "execution_count": null,
      "outputs": [
        {
          "output_type": "execute_result",
          "data": {
            "text/html": [
              "<div>\n",
              "<style scoped>\n",
              "    .dataframe tbody tr th:only-of-type {\n",
              "        vertical-align: middle;\n",
              "    }\n",
              "\n",
              "    .dataframe tbody tr th {\n",
              "        vertical-align: top;\n",
              "    }\n",
              "\n",
              "    .dataframe thead th {\n",
              "        text-align: right;\n",
              "    }\n",
              "</style>\n",
              "<table border=\"1\" class=\"dataframe\">\n",
              "  <thead>\n",
              "    <tr style=\"text-align: right;\">\n",
              "      <th></th>\n",
              "      <th>count</th>\n",
              "      <th>mean</th>\n",
              "      <th>std</th>\n",
              "      <th>min</th>\n",
              "      <th>25%</th>\n",
              "      <th>50%</th>\n",
              "      <th>75%</th>\n",
              "      <th>max</th>\n",
              "    </tr>\n",
              "  </thead>\n",
              "  <tbody>\n",
              "    <tr>\n",
              "      <th>condition</th>\n",
              "      <td>17357.0</td>\n",
              "      <td>0.883390</td>\n",
              "      <td>0.770434</td>\n",
              "      <td>0.0</td>\n",
              "      <td>0.0000</td>\n",
              "      <td>1.00</td>\n",
              "      <td>1.00</td>\n",
              "      <td>2.0</td>\n",
              "    </tr>\n",
              "    <tr>\n",
              "      <th>length(m)</th>\n",
              "      <td>18834.0</td>\n",
              "      <td>0.502636</td>\n",
              "      <td>0.288705</td>\n",
              "      <td>0.0</td>\n",
              "      <td>0.2500</td>\n",
              "      <td>0.50</td>\n",
              "      <td>0.76</td>\n",
              "      <td>1.0</td>\n",
              "    </tr>\n",
              "    <tr>\n",
              "      <th>height(cm)</th>\n",
              "      <td>18834.0</td>\n",
              "      <td>27.448832</td>\n",
              "      <td>13.019781</td>\n",
              "      <td>5.0</td>\n",
              "      <td>16.1725</td>\n",
              "      <td>27.34</td>\n",
              "      <td>38.89</td>\n",
              "      <td>50.0</td>\n",
              "    </tr>\n",
              "    <tr>\n",
              "      <th>X1</th>\n",
              "      <td>18834.0</td>\n",
              "      <td>5.369598</td>\n",
              "      <td>6.572366</td>\n",
              "      <td>0.0</td>\n",
              "      <td>0.0000</td>\n",
              "      <td>0.00</td>\n",
              "      <td>13.00</td>\n",
              "      <td>19.0</td>\n",
              "    </tr>\n",
              "    <tr>\n",
              "      <th>X2</th>\n",
              "      <td>18834.0</td>\n",
              "      <td>4.577307</td>\n",
              "      <td>3.517763</td>\n",
              "      <td>0.0</td>\n",
              "      <td>1.0000</td>\n",
              "      <td>4.00</td>\n",
              "      <td>9.00</td>\n",
              "      <td>9.0</td>\n",
              "    </tr>\n",
              "    <tr>\n",
              "      <th>breed_category</th>\n",
              "      <td>18834.0</td>\n",
              "      <td>0.600563</td>\n",
              "      <td>0.629883</td>\n",
              "      <td>0.0</td>\n",
              "      <td>0.0000</td>\n",
              "      <td>1.00</td>\n",
              "      <td>1.00</td>\n",
              "      <td>2.0</td>\n",
              "    </tr>\n",
              "    <tr>\n",
              "      <th>pet_category</th>\n",
              "      <td>18834.0</td>\n",
              "      <td>1.709143</td>\n",
              "      <td>0.717919</td>\n",
              "      <td>0.0</td>\n",
              "      <td>1.0000</td>\n",
              "      <td>2.00</td>\n",
              "      <td>2.00</td>\n",
              "      <td>4.0</td>\n",
              "    </tr>\n",
              "  </tbody>\n",
              "</table>\n",
              "</div>"
            ],
            "text/plain": [
              "                  count       mean        std  min      25%    50%    75%  \\\n",
              "condition       17357.0   0.883390   0.770434  0.0   0.0000   1.00   1.00   \n",
              "length(m)       18834.0   0.502636   0.288705  0.0   0.2500   0.50   0.76   \n",
              "height(cm)      18834.0  27.448832  13.019781  5.0  16.1725  27.34  38.89   \n",
              "X1              18834.0   5.369598   6.572366  0.0   0.0000   0.00  13.00   \n",
              "X2              18834.0   4.577307   3.517763  0.0   1.0000   4.00   9.00   \n",
              "breed_category  18834.0   0.600563   0.629883  0.0   0.0000   1.00   1.00   \n",
              "pet_category    18834.0   1.709143   0.717919  0.0   1.0000   2.00   2.00   \n",
              "\n",
              "                 max  \n",
              "condition        2.0  \n",
              "length(m)        1.0  \n",
              "height(cm)      50.0  \n",
              "X1              19.0  \n",
              "X2               9.0  \n",
              "breed_category   2.0  \n",
              "pet_category     4.0  "
            ]
          },
          "metadata": {
            "tags": []
          },
          "execution_count": 3
        }
      ]
    },
    {
      "cell_type": "code",
      "metadata": {
        "id": "35rZdo-8vb7S",
        "outputId": "3ee5cfab-cbcf-4240-aadd-dd7e8201ae67"
      },
      "source": [
        "train.info()\n"
      ],
      "execution_count": null,
      "outputs": [
        {
          "output_type": "stream",
          "text": [
            "<class 'pandas.core.frame.DataFrame'>\n",
            "RangeIndex: 18834 entries, 0 to 18833\n",
            "Data columns (total 11 columns):\n",
            " #   Column          Non-Null Count  Dtype  \n",
            "---  ------          --------------  -----  \n",
            " 0   pet_id          18834 non-null  object \n",
            " 1   issue_date      18834 non-null  object \n",
            " 2   listing_date    18834 non-null  object \n",
            " 3   condition       17357 non-null  float64\n",
            " 4   color_type      18834 non-null  object \n",
            " 5   length(m)       18834 non-null  float64\n",
            " 6   height(cm)      18834 non-null  float64\n",
            " 7   X1              18834 non-null  int64  \n",
            " 8   X2              18834 non-null  int64  \n",
            " 9   breed_category  18834 non-null  float64\n",
            " 10  pet_category    18834 non-null  int64  \n",
            "dtypes: float64(4), int64(3), object(4)\n",
            "memory usage: 1.6+ MB\n"
          ],
          "name": "stdout"
        }
      ]
    },
    {
      "cell_type": "code",
      "metadata": {
        "id": "VGdQkcTwvb7S",
        "outputId": "11f69820-bfbe-40ee-a5e5-d4fca7da92de"
      },
      "source": [
        "train.columns"
      ],
      "execution_count": null,
      "outputs": [
        {
          "output_type": "execute_result",
          "data": {
            "text/plain": [
              "Index(['pet_id', 'issue_date', 'listing_date', 'condition', 'color_type',\n",
              "       'length(m)', 'height(cm)', 'X1', 'X2', 'breed_category',\n",
              "       'pet_category'],\n",
              "      dtype='object')"
            ]
          },
          "metadata": {
            "tags": []
          },
          "execution_count": 5
        }
      ]
    },
    {
      "cell_type": "code",
      "metadata": {
        "id": "Q4OE1nYYvb7T",
        "outputId": "7800ed16-0ed6-47ab-eb4a-da4a7536fa34"
      },
      "source": [
        "print(train.isnull().sum())\n",
        "plt.figure(figsize = (15,10))\n",
        "sns.heatmap(train.isnull(),cmap='gray')"
      ],
      "execution_count": null,
      "outputs": [
        {
          "output_type": "stream",
          "text": [
            "pet_id               0\n",
            "issue_date           0\n",
            "listing_date         0\n",
            "condition         1477\n",
            "color_type           0\n",
            "length(m)            0\n",
            "height(cm)           0\n",
            "X1                   0\n",
            "X2                   0\n",
            "breed_category       0\n",
            "pet_category         0\n",
            "dtype: int64\n"
          ],
          "name": "stdout"
        },
        {
          "output_type": "execute_result",
          "data": {
            "text/plain": [
              "<matplotlib.axes._subplots.AxesSubplot at 0xd576a48>"
            ]
          },
          "metadata": {
            "tags": []
          },
          "execution_count": 6
        },
        {
          "output_type": "display_data",
          "data": {
            "image/png": "[encoded data removed]",
            "text/plain": [
              "<Figure size 1080x720 with 2 Axes>"
            ]
          },
          "metadata": {
            "tags": [],
            "needs_background": "light"
          }
        }
      ]
    },
    {
      "cell_type": "code",
      "metadata": {
        "id": "Hp7WqMDCvb7U",
        "outputId": "2c523c1b-6411-4c91-cf6a-03e327e75bfb"
      },
      "source": [
        "print(test.isnull().sum())\n",
        "plt.figure(figsize = (15,10))\n",
        "sns.heatmap(train.isnull(),cmap='gray')"
      ],
      "execution_count": null,
      "outputs": [
        {
          "output_type": "stream",
          "text": [
            "pet_id            0\n",
            "issue_date        0\n",
            "listing_date      0\n",
            "condition       619\n",
            "color_type        0\n",
            "length(m)         0\n",
            "height(cm)        0\n",
            "X1                0\n",
            "X2                0\n",
            "dtype: int64\n"
          ],
          "name": "stdout"
        },
        {
          "output_type": "execute_result",
          "data": {
            "text/plain": [
              "<matplotlib.axes._subplots.AxesSubplot at 0xf8e7508>"
            ]
          },
          "metadata": {
            "tags": []
          },
          "execution_count": 7
        },
        {
          "output_type": "display_data",
          "data": {
            "image/png": "[encoded data removed]",
            "text/plain": [
              "<Figure size 1080x720 with 2 Axes>"
            ]
          },
          "metadata": {
            "tags": [],
            "needs_background": "light"
          }
        }
      ]
    },
    {
      "cell_type": "code",
      "metadata": {
        "id": "HgdrLxY6vb7U",
        "outputId": "bb744482-3770-42c9-f858-2962f0aef8de"
      },
      "source": [
        "train.groupby('condition').mean()"
      ],
      "execution_count": null,
      "outputs": [
        {
          "output_type": "execute_result",
          "data": {
            "text/html": [
              "<div>\n",
              "<style scoped>\n",
              "    .dataframe tbody tr th:only-of-type {\n",
              "        vertical-align: middle;\n",
              "    }\n",
              "\n",
              "    .dataframe tbody tr th {\n",
              "        vertical-align: top;\n",
              "    }\n",
              "\n",
              "    .dataframe thead th {\n",
              "        text-align: right;\n",
              "    }\n",
              "</style>\n",
              "<table border=\"1\" class=\"dataframe\">\n",
              "  <thead>\n",
              "    <tr style=\"text-align: right;\">\n",
              "      <th></th>\n",
              "      <th>length(m)</th>\n",
              "      <th>height(cm)</th>\n",
              "      <th>X1</th>\n",
              "      <th>X2</th>\n",
              "      <th>breed_category</th>\n",
              "      <th>pet_category</th>\n",
              "    </tr>\n",
              "    <tr>\n",
              "      <th>condition</th>\n",
              "      <th></th>\n",
              "      <th></th>\n",
              "      <th></th>\n",
              "      <th></th>\n",
              "      <th></th>\n",
              "      <th></th>\n",
              "    </tr>\n",
              "  </thead>\n",
              "  <tbody>\n",
              "    <tr>\n",
              "      <th>0.0</th>\n",
              "      <td>0.505816</td>\n",
              "      <td>27.670675</td>\n",
              "      <td>3.247731</td>\n",
              "      <td>3.424455</td>\n",
              "      <td>1.000000</td>\n",
              "      <td>1.631269</td>\n",
              "    </tr>\n",
              "    <tr>\n",
              "      <th>1.0</th>\n",
              "      <td>0.502157</td>\n",
              "      <td>27.278102</td>\n",
              "      <td>3.220414</td>\n",
              "      <td>3.723127</td>\n",
              "      <td>0.000000</td>\n",
              "      <td>1.682065</td>\n",
              "    </tr>\n",
              "    <tr>\n",
              "      <th>2.0</th>\n",
              "      <td>0.497324</td>\n",
              "      <td>27.340665</td>\n",
              "      <td>9.245478</td>\n",
              "      <td>7.201081</td>\n",
              "      <td>0.487667</td>\n",
              "      <td>1.559549</td>\n",
              "    </tr>\n",
              "  </tbody>\n",
              "</table>\n",
              "</div>"
            ],
            "text/plain": [
              "           length(m)  height(cm)        X1        X2  breed_category  \\\n",
              "condition                                                              \n",
              "0.0         0.505816   27.670675  3.247731  3.424455        1.000000   \n",
              "1.0         0.502157   27.278102  3.220414  3.723127        0.000000   \n",
              "2.0         0.497324   27.340665  9.245478  7.201081        0.487667   \n",
              "\n",
              "           pet_category  \n",
              "condition                \n",
              "0.0            1.631269  \n",
              "1.0            1.682065  \n",
              "2.0            1.559549  "
            ]
          },
          "metadata": {
            "tags": []
          },
          "execution_count": 8
        }
      ]
    },
    {
      "cell_type": "code",
      "metadata": {
        "scrolled": true,
        "id": "4qi8Fk-Nvb7V",
        "outputId": "a145d025-0d8d-451a-e5be-5883cd97112e"
      },
      "source": [
        "train.groupby('breed_category').mean()"
      ],
      "execution_count": null,
      "outputs": [
        {
          "output_type": "execute_result",
          "data": {
            "text/html": [
              "<div>\n",
              "<style scoped>\n",
              "    .dataframe tbody tr th:only-of-type {\n",
              "        vertical-align: middle;\n",
              "    }\n",
              "\n",
              "    .dataframe tbody tr th {\n",
              "        vertical-align: top;\n",
              "    }\n",
              "\n",
              "    .dataframe thead th {\n",
              "        text-align: right;\n",
              "    }\n",
              "</style>\n",
              "<table border=\"1\" class=\"dataframe\">\n",
              "  <thead>\n",
              "    <tr style=\"text-align: right;\">\n",
              "      <th></th>\n",
              "      <th>condition</th>\n",
              "      <th>length(m)</th>\n",
              "      <th>height(cm)</th>\n",
              "      <th>X1</th>\n",
              "      <th>X2</th>\n",
              "      <th>pet_category</th>\n",
              "    </tr>\n",
              "    <tr>\n",
              "      <th>breed_category</th>\n",
              "      <th></th>\n",
              "      <th></th>\n",
              "      <th></th>\n",
              "      <th></th>\n",
              "      <th></th>\n",
              "      <th></th>\n",
              "    </tr>\n",
              "  </thead>\n",
              "  <tbody>\n",
              "    <tr>\n",
              "      <th>0.0</th>\n",
              "      <td>1.242333</td>\n",
              "      <td>0.500540</td>\n",
              "      <td>27.274660</td>\n",
              "      <td>4.560111</td>\n",
              "      <td>4.544444</td>\n",
              "      <td>1.656778</td>\n",
              "    </tr>\n",
              "    <tr>\n",
              "      <th>1.0</th>\n",
              "      <td>0.496829</td>\n",
              "      <td>0.504187</td>\n",
              "      <td>27.608730</td>\n",
              "      <td>4.867297</td>\n",
              "      <td>4.385784</td>\n",
              "      <td>1.608711</td>\n",
              "    </tr>\n",
              "    <tr>\n",
              "      <th>2.0</th>\n",
              "      <td>NaN</td>\n",
              "      <td>0.506628</td>\n",
              "      <td>27.605423</td>\n",
              "      <td>13.144211</td>\n",
              "      <td>5.861205</td>\n",
              "      <td>2.596479</td>\n",
              "    </tr>\n",
              "  </tbody>\n",
              "</table>\n",
              "</div>"
            ],
            "text/plain": [
              "                condition  length(m)  height(cm)         X1        X2  \\\n",
              "breed_category                                                          \n",
              "0.0              1.242333   0.500540   27.274660   4.560111  4.544444   \n",
              "1.0              0.496829   0.504187   27.608730   4.867297  4.385784   \n",
              "2.0                   NaN   0.506628   27.605423  13.144211  5.861205   \n",
              "\n",
              "                pet_category  \n",
              "breed_category                \n",
              "0.0                 1.656778  \n",
              "1.0                 1.608711  \n",
              "2.0                 2.596479  "
            ]
          },
          "metadata": {
            "tags": []
          },
          "execution_count": 9
        }
      ]
    },
    {
      "cell_type": "markdown",
      "metadata": {
        "id": "XEJkiaXTvb7V"
      },
      "source": [
        "Since all the NaN values representing breed category as 2.0, we will be using a new category as 5.0"
      ]
    },
    {
      "cell_type": "code",
      "metadata": {
        "id": "-Po89INFvb7W"
      },
      "source": [
        "# Creating a new condition\n",
        "train['condition'] = train['condition'].fillna(int(5))\n",
        "test['condition'] = test['condition'].fillna(int(5))"
      ],
      "execution_count": null,
      "outputs": []
    },
    {
      "cell_type": "code",
      "metadata": {
        "id": "PD3HFT-Svb7W",
        "outputId": "dd734899-34ef-44fb-e612-cbc518738c13"
      },
      "source": [
        "print(train.isnull().sum())\n",
        "plt.figure(figsize = (15,10))\n",
        "sns.heatmap(train.isnull(),cmap='gray')"
      ],
      "execution_count": null,
      "outputs": [
        {
          "output_type": "stream",
          "text": [
            "pet_id            0\n",
            "issue_date        0\n",
            "listing_date      0\n",
            "condition         0\n",
            "color_type        0\n",
            "length(m)         0\n",
            "height(cm)        0\n",
            "X1                0\n",
            "X2                0\n",
            "breed_category    0\n",
            "pet_category      0\n",
            "dtype: int64\n"
          ],
          "name": "stdout"
        },
        {
          "output_type": "execute_result",
          "data": {
            "text/plain": [
              "<matplotlib.axes._subplots.AxesSubplot at 0x1010edc8>"
            ]
          },
          "metadata": {
            "tags": []
          },
          "execution_count": 11
        },
        {
          "output_type": "display_data",
          "data": {
            "image/png": "[encoded data removed]",
            "text/plain": [
              "<Figure size 1080x720 with 2 Axes>"
            ]
          },
          "metadata": {
            "tags": [],
            "needs_background": "light"
          }
        }
      ]
    },
    {
      "cell_type": "code",
      "metadata": {
        "id": "YD2i8Ojcvb7X",
        "outputId": "436e57e9-49c3-4b90-9624-4e807713ebbe"
      },
      "source": [
        "print(test.isnull().sum())\n",
        "plt.figure(figsize = (15,10))\n",
        "sns.heatmap(train.isnull(),cmap='gray')"
      ],
      "execution_count": null,
      "outputs": [
        {
          "output_type": "stream",
          "text": [
            "pet_id          0\n",
            "issue_date      0\n",
            "listing_date    0\n",
            "condition       0\n",
            "color_type      0\n",
            "length(m)       0\n",
            "height(cm)      0\n",
            "X1              0\n",
            "X2              0\n",
            "dtype: int64\n"
          ],
          "name": "stdout"
        },
        {
          "output_type": "execute_result",
          "data": {
            "text/plain": [
              "<matplotlib.axes._subplots.AxesSubplot at 0xfee4348>"
            ]
          },
          "metadata": {
            "tags": []
          },
          "execution_count": 12
        },
        {
          "output_type": "display_data",
          "data": {
            "image/png": "[encoded data removed]",
            "text/plain": [
              "<Figure size 1080x720 with 2 Axes>"
            ]
          },
          "metadata": {
            "tags": [],
            "needs_background": "light"
          }
        }
      ]
    },
    {
      "cell_type": "raw",
      "metadata": {
        "id": "Ddhzkjaivb7X"
      },
      "source": [
        "plt.figure(figsize = (15,10))\n",
        "sns.pairplot(train)"
      ]
    },
    {
      "cell_type": "code",
      "metadata": {
        "id": "6GqtjjRRvb7Y",
        "outputId": "f1262db7-ea3d-4184-e44d-a77782fc385c"
      },
      "source": [
        "plt.figure(figsize = (15,10))\n",
        "sns.heatmap(train.corr(), annot = True)"
      ],
      "execution_count": null,
      "outputs": [
        {
          "output_type": "execute_result",
          "data": {
            "text/plain": [
              "<matplotlib.axes._subplots.AxesSubplot at 0x10021048>"
            ]
          },
          "metadata": {
            "tags": []
          },
          "execution_count": 13
        },
        {
          "output_type": "display_data",
          "data": {
            "image/png": "[encoded data removed]",
            "text/plain": [
              "<Figure size 1080x720 with 2 Axes>"
            ]
          },
          "metadata": {
            "tags": [],
            "needs_background": "light"
          }
        }
      ]
    },
    {
      "cell_type": "markdown",
      "metadata": {
        "id": "NXsyr3OKvb7Y"
      },
      "source": [
        "Listing date should not be issue date. Let's check it!!!"
      ]
    },
    {
      "cell_type": "code",
      "metadata": {
        "id": "YVusGGa1vb7Z",
        "outputId": "1880f6b7-db65-4375-e6ef-046eefd662e4"
      },
      "source": [
        "train.loc[train['listing_date'] < train['issue_date']] #2 Anamolies"
      ],
      "execution_count": null,
      "outputs": [
        {
          "output_type": "execute_result",
          "data": {
            "text/html": [
              "<div>\n",
              "<style scoped>\n",
              "    .dataframe tbody tr th:only-of-type {\n",
              "        vertical-align: middle;\n",
              "    }\n",
              "\n",
              "    .dataframe tbody tr th {\n",
              "        vertical-align: top;\n",
              "    }\n",
              "\n",
              "    .dataframe thead th {\n",
              "        text-align: right;\n",
              "    }\n",
              "</style>\n",
              "<table border=\"1\" class=\"dataframe\">\n",
              "  <thead>\n",
              "    <tr style=\"text-align: right;\">\n",
              "      <th></th>\n",
              "      <th>pet_id</th>\n",
              "      <th>issue_date</th>\n",
              "      <th>listing_date</th>\n",
              "      <th>condition</th>\n",
              "      <th>color_type</th>\n",
              "      <th>length(m)</th>\n",
              "      <th>height(cm)</th>\n",
              "      <th>X1</th>\n",
              "      <th>X2</th>\n",
              "      <th>breed_category</th>\n",
              "      <th>pet_category</th>\n",
              "    </tr>\n",
              "  </thead>\n",
              "  <tbody>\n",
              "    <tr>\n",
              "      <th>1504</th>\n",
              "      <td>ANSL_52243</td>\n",
              "      <td>2018-01-17 00:00:00</td>\n",
              "      <td>2018-01-14 15:13:00</td>\n",
              "      <td>2.0</td>\n",
              "      <td>Orange Tabby</td>\n",
              "      <td>0.72</td>\n",
              "      <td>43.19</td>\n",
              "      <td>13</td>\n",
              "      <td>9</td>\n",
              "      <td>0.0</td>\n",
              "      <td>1</td>\n",
              "    </tr>\n",
              "    <tr>\n",
              "      <th>5301</th>\n",
              "      <td>ANSL_63737</td>\n",
              "      <td>2016-11-18 00:00:00</td>\n",
              "      <td>2016-09-03 17:01:00</td>\n",
              "      <td>0.0</td>\n",
              "      <td>Black</td>\n",
              "      <td>0.88</td>\n",
              "      <td>27.82</td>\n",
              "      <td>0</td>\n",
              "      <td>1</td>\n",
              "      <td>1.0</td>\n",
              "      <td>1</td>\n",
              "    </tr>\n",
              "  </tbody>\n",
              "</table>\n",
              "</div>"
            ],
            "text/plain": [
              "          pet_id           issue_date         listing_date  condition  \\\n",
              "1504  ANSL_52243  2018-01-17 00:00:00  2018-01-14 15:13:00        2.0   \n",
              "5301  ANSL_63737  2016-11-18 00:00:00  2016-09-03 17:01:00        0.0   \n",
              "\n",
              "        color_type  length(m)  height(cm)  X1  X2  breed_category  \\\n",
              "1504  Orange Tabby       0.72       43.19  13   9             0.0   \n",
              "5301         Black       0.88       27.82   0   1             1.0   \n",
              "\n",
              "      pet_category  \n",
              "1504             1  \n",
              "5301             1  "
            ]
          },
          "metadata": {
            "tags": []
          },
          "execution_count": 14
        }
      ]
    },
    {
      "cell_type": "code",
      "metadata": {
        "id": "z_QrrATivb7Z",
        "outputId": "afdfb0c3-0ce4-4a8f-bff3-4052ff29d4c6"
      },
      "source": [
        "test.loc[test['listing_date'] < test['issue_date']] #0 Anamolies"
      ],
      "execution_count": null,
      "outputs": [
        {
          "output_type": "execute_result",
          "data": {
            "text/html": [
              "<div>\n",
              "<style scoped>\n",
              "    .dataframe tbody tr th:only-of-type {\n",
              "        vertical-align: middle;\n",
              "    }\n",
              "\n",
              "    .dataframe tbody tr th {\n",
              "        vertical-align: top;\n",
              "    }\n",
              "\n",
              "    .dataframe thead th {\n",
              "        text-align: right;\n",
              "    }\n",
              "</style>\n",
              "<table border=\"1\" class=\"dataframe\">\n",
              "  <thead>\n",
              "    <tr style=\"text-align: right;\">\n",
              "      <th></th>\n",
              "      <th>pet_id</th>\n",
              "      <th>issue_date</th>\n",
              "      <th>listing_date</th>\n",
              "      <th>condition</th>\n",
              "      <th>color_type</th>\n",
              "      <th>length(m)</th>\n",
              "      <th>height(cm)</th>\n",
              "      <th>X1</th>\n",
              "      <th>X2</th>\n",
              "    </tr>\n",
              "  </thead>\n",
              "  <tbody>\n",
              "  </tbody>\n",
              "</table>\n",
              "</div>"
            ],
            "text/plain": [
              "Empty DataFrame\n",
              "Columns: [pet_id, issue_date, listing_date, condition, color_type, length(m), height(cm), X1, X2]\n",
              "Index: []"
            ]
          },
          "metadata": {
            "tags": []
          },
          "execution_count": 15
        }
      ]
    },
    {
      "cell_type": "markdown",
      "metadata": {
        "id": "jagrUpe-vb7a"
      },
      "source": [
        "train contains 2 anamolies and test 0, Let's remove them!!!"
      ]
    },
    {
      "cell_type": "code",
      "metadata": {
        "id": "_yBHZlXgvb7a"
      },
      "source": [
        "train = train.loc[train['listing_date'] >= train['issue_date']]\n",
        "# test = test.loc[test['listing_date'] >= test['issue_date']]"
      ],
      "execution_count": null,
      "outputs": []
    },
    {
      "cell_type": "markdown",
      "metadata": {
        "id": "ATY8lm25vb7a"
      },
      "source": [
        "Let us get the more feature from listing date and issue date!!!"
      ]
    },
    {
      "cell_type": "code",
      "metadata": {
        "id": "tODu3_WUvb7b"
      },
      "source": [
        "\n",
        "train['issue_date_Year'] = train['issue_date'].apply(lambda x: int(x[:4]))\n",
        "train['issue_date_Month'] = pd.to_datetime(train['issue_date']).dt.month\n",
        "train['issue_date_Day'] = pd.to_datetime(train['issue_date']).dt.day\n",
        "train['issue_date_Dayofweek'] = pd.to_datetime(train['issue_date']).dt.dayofweek\n",
        "train['issue_date_DayOfyear'] = pd.to_datetime(train['issue_date']).dt.dayofyear\n",
        "train['issue_date_Week_No'] = pd.to_datetime(train['issue_date']).dt.week\n",
        "train['issue_date_Quarter'] = pd.to_datetime(train['issue_date']).dt.quarter \n",
        "train['issue_date_Is_month_start'] = pd.to_datetime(train['issue_date']).dt.is_month_start\n",
        "train['issue_date_Is_month_end'] = pd.to_datetime(train['issue_date']).dt.is_month_end\n",
        "train['issue_date_Is_quarter_start'] = pd.to_datetime(train['issue_date']).dt.is_quarter_start\n",
        "train['issue_date_Is_quarter_end'] = pd.to_datetime(train['issue_date']).dt.is_quarter_end\n",
        "train['issue_date_Is_year_start'] = pd.to_datetime(train['issue_date']).dt.is_year_start\n",
        "train['issue_date_Is_year_end'] = pd.to_datetime(train['issue_date']).dt.is_year_end\n",
        "train['issue_date_Is_weekend'] = np.where(train['issue_date_Dayofweek'].isin([5,6]),1,0)\n",
        "train['issue_date_Is_weekday'] = np.where(train['issue_date_Dayofweek'].isin([0,1,2,3,4]),1,0)\n",
        "\n",
        "\n",
        "train['listing_date_Year'] = train['listing_date'].apply(lambda x: int(x[:4]))\n",
        "train['listing_date_Month'] = pd.to_datetime(train['listing_date']).dt.month\n",
        "train['listing_date_Day'] = pd.to_datetime(train['listing_date']).dt.day\n",
        "train['listing_date_Dayofweek'] = pd.to_datetime(train['listing_date']).dt.dayofweek\n",
        "train['listing_date_DayOfyear'] = pd.to_datetime(train['listing_date']).dt.dayofyear\n",
        "train['listing_date_Week_No'] = pd.to_datetime(train['listing_date']).dt.week\n",
        "train['listing_date_Quarter'] = pd.to_datetime(train['listing_date']).dt.quarter \n",
        "train['listing_date_Is_month_start'] = pd.to_datetime(train['listing_date']).dt.is_month_start\n",
        "train['listing_date_Is_month_end'] = pd.to_datetime(train['listing_date']).dt.is_month_end\n",
        "train['listing_date_Is_quarter_start'] = pd.to_datetime(train['listing_date']).dt.is_quarter_start\n",
        "train['listing_date_Is_quarter_end'] = pd.to_datetime(train['listing_date']).dt.is_quarter_end\n",
        "train['listing_date_Is_year_start'] = pd.to_datetime(train['listing_date']).dt.is_year_start\n",
        "train['listing_date_Is_year_end'] = pd.to_datetime(train['listing_date']).dt.is_year_end\n",
        "train['listing_date_Is_weekend'] = np.where(train['issue_date_Dayofweek'].isin([5,6]),1,0)\n",
        "train['listing_date_Is_weekday'] = np.where(train['issue_date_Dayofweek'].isin([0,1,2,3,4]),1,0)\n"
      ],
      "execution_count": null,
      "outputs": []
    },
    {
      "cell_type": "code",
      "metadata": {
        "id": "YdF5QNtGvb7c"
      },
      "source": [
        "\n",
        "test['issue_date_Year'] = test['issue_date'].apply(lambda x: int(x[:4]))\n",
        "test['issue_date_Month'] = pd.to_datetime(test['issue_date']).dt.month\n",
        "test['issue_date_Day'] = pd.to_datetime(test['issue_date']).dt.day\n",
        "test['issue_date_Dayofweek'] = pd.to_datetime(test['issue_date']).dt.dayofweek\n",
        "test['issue_date_DayOfyear'] = pd.to_datetime(test['issue_date']).dt.dayofyear\n",
        "test['issue_date_Week_No'] = pd.to_datetime(test['issue_date']).dt.week\n",
        "test['issue_date_Quarter'] = pd.to_datetime(test['issue_date']).dt.quarter \n",
        "test['issue_date_Is_month_start'] = pd.to_datetime(test['issue_date']).dt.is_month_start\n",
        "test['issue_date_Is_month_end'] = pd.to_datetime(test['issue_date']).dt.is_month_end\n",
        "test['issue_date_Is_quarter_start'] = pd.to_datetime(test['issue_date']).dt.is_quarter_start\n",
        "test['issue_date_Is_quarter_end'] = pd.to_datetime(test['issue_date']).dt.is_quarter_end\n",
        "test['issue_date_Is_year_start'] = pd.to_datetime(test['issue_date']).dt.is_year_start\n",
        "test['issue_date_Is_year_end'] = pd.to_datetime(test['issue_date']).dt.is_year_end\n",
        "test['issue_date_Is_weekend'] = np.where(test['issue_date_Dayofweek'].isin([5,6]),1,0)\n",
        "test['issue_date_Is_weekday'] = np.where(test['issue_date_Dayofweek'].isin([0,1,2,3,4]),1,0)\n",
        "    \n",
        "    \n",
        "test['listing_date_Year'] = test['listing_date'].apply(lambda x: int(x[:4]))\n",
        "test['listing_date_Month'] = pd.to_datetime(test['listing_date']).dt.month\n",
        "test['listing_date_Day'] = pd.to_datetime(test['listing_date']).dt.day\n",
        "test['listing_date_Dayofweek'] = pd.to_datetime(test['listing_date']).dt.dayofweek\n",
        "test['listing_date_DayOfyear'] = pd.to_datetime(test['listing_date']).dt.dayofyear\n",
        "test['listing_date_Week_No'] = pd.to_datetime(test['listing_date']).dt.week\n",
        "test['listing_date_Quarter'] = pd.to_datetime(test['listing_date']).dt.quarter \n",
        "test['listing_date_Is_month_start'] = pd.to_datetime(test['listing_date']).dt.is_month_start\n",
        "test['listing_date_Is_month_end'] = pd.to_datetime(test['listing_date']).dt.is_month_end\n",
        "test['listing_date_Is_quarter_start'] = pd.to_datetime(test['listing_date']).dt.is_quarter_start\n",
        "test['listing_date_Is_quarter_end'] = pd.to_datetime(test['listing_date']).dt.is_quarter_end\n",
        "test['listing_date_Is_year_start'] = pd.to_datetime(test['listing_date']).dt.is_year_start\n",
        "test['listing_date_Is_year_end'] = pd.to_datetime(test['listing_date']).dt.is_year_end\n",
        "test['listing_date_Is_weekend'] = np.where(test['issue_date_Dayofweek'].isin([5,6]),1,0)\n",
        "test['listing_date_Is_weekday'] = np.where(test['issue_date_Dayofweek'].isin([0,1,2,3,4]),1,0)\n"
      ],
      "execution_count": null,
      "outputs": []
    },
    {
      "cell_type": "code",
      "metadata": {
        "id": "2aEq-ODfvb7e"
      },
      "source": [
        "train['diff_date']= train['listing_date_Day'] - train['issue_date_Day']\n",
        "test['diff_date']= test['listing_date_Day'] - test['issue_date_Day']"
      ],
      "execution_count": null,
      "outputs": []
    },
    {
      "cell_type": "code",
      "metadata": {
        "id": "QWGlNYsZvb7e"
      },
      "source": [
        "train['diff_month']= train['listing_date_Month'] - train['issue_date_Month']\n",
        "test['diff_month']= test['listing_date_Month'] - test['issue_date_Month']"
      ],
      "execution_count": null,
      "outputs": []
    },
    {
      "cell_type": "code",
      "metadata": {
        "id": "Qnzb_6n2vb7f"
      },
      "source": [
        "train['diff_year'] = train['listing_date_Year'] - train['issue_date_Year']\n",
        "test['diff_year'] = test['listing_date_Year'] - test['issue_date_Year']"
      ],
      "execution_count": null,
      "outputs": []
    },
    {
      "cell_type": "code",
      "metadata": {
        "scrolled": true,
        "id": "QrM5o2Huvb7f"
      },
      "source": [
        "train.drop(['issue_date','listing_date'], axis = 1, inplace=True)\n",
        "test.drop(['issue_date','listing_date'], axis = 1, inplace=True)"
      ],
      "execution_count": null,
      "outputs": []
    },
    {
      "cell_type": "markdown",
      "metadata": {
        "id": "eHdHH92Svb7f"
      },
      "source": [
        "Let's convert length and height in same units of 'cm'"
      ]
    },
    {
      "cell_type": "code",
      "metadata": {
        "id": "Nk4dt9wAvb7g"
      },
      "source": [
        "train['length(cm)'] = train['length(m)']*100\n",
        "test['length(cm)'] = test['length(m)']*100\n",
        "train.drop(['length(m)'], axis = 1, inplace=True)\n",
        "test.drop(['length(m)'], axis = 1, inplace=True)"
      ],
      "execution_count": null,
      "outputs": []
    },
    {
      "cell_type": "code",
      "metadata": {
        "scrolled": false,
        "id": "00tRO4Mcvb7g",
        "outputId": "f5bffd22-c196-471b-9aed-d942464d82dc"
      },
      "source": [
        "train.describe().T"
      ],
      "execution_count": null,
      "outputs": [
        {
          "output_type": "execute_result",
          "data": {
            "text/html": [
              "<div>\n",
              "<style scoped>\n",
              "    .dataframe tbody tr th:only-of-type {\n",
              "        vertical-align: middle;\n",
              "    }\n",
              "\n",
              "    .dataframe tbody tr th {\n",
              "        vertical-align: top;\n",
              "    }\n",
              "\n",
              "    .dataframe thead th {\n",
              "        text-align: right;\n",
              "    }\n",
              "</style>\n",
              "<table border=\"1\" class=\"dataframe\">\n",
              "  <thead>\n",
              "    <tr style=\"text-align: right;\">\n",
              "      <th></th>\n",
              "      <th>count</th>\n",
              "      <th>mean</th>\n",
              "      <th>std</th>\n",
              "      <th>min</th>\n",
              "      <th>25%</th>\n",
              "      <th>50%</th>\n",
              "      <th>75%</th>\n",
              "      <th>max</th>\n",
              "    </tr>\n",
              "  </thead>\n",
              "  <tbody>\n",
              "    <tr>\n",
              "      <th>condition</th>\n",
              "      <td>18832.0</td>\n",
              "      <td>1.206245</td>\n",
              "      <td>1.331133</td>\n",
              "      <td>0.0</td>\n",
              "      <td>0.00</td>\n",
              "      <td>1.000</td>\n",
              "      <td>2.00</td>\n",
              "      <td>5.0</td>\n",
              "    </tr>\n",
              "    <tr>\n",
              "      <th>height(cm)</th>\n",
              "      <td>18832.0</td>\n",
              "      <td>27.447977</td>\n",
              "      <td>13.019967</td>\n",
              "      <td>5.0</td>\n",
              "      <td>16.17</td>\n",
              "      <td>27.335</td>\n",
              "      <td>38.89</td>\n",
              "      <td>50.0</td>\n",
              "    </tr>\n",
              "    <tr>\n",
              "      <th>X1</th>\n",
              "      <td>18832.0</td>\n",
              "      <td>5.369477</td>\n",
              "      <td>6.572364</td>\n",
              "      <td>0.0</td>\n",
              "      <td>0.00</td>\n",
              "      <td>0.000</td>\n",
              "      <td>13.00</td>\n",
              "      <td>19.0</td>\n",
              "    </tr>\n",
              "    <tr>\n",
              "      <th>X2</th>\n",
              "      <td>18832.0</td>\n",
              "      <td>4.577262</td>\n",
              "      <td>3.517706</td>\n",
              "      <td>0.0</td>\n",
              "      <td>1.00</td>\n",
              "      <td>4.000</td>\n",
              "      <td>9.00</td>\n",
              "      <td>9.0</td>\n",
              "    </tr>\n",
              "    <tr>\n",
              "      <th>breed_category</th>\n",
              "      <td>18832.0</td>\n",
              "      <td>0.600573</td>\n",
              "      <td>0.629894</td>\n",
              "      <td>0.0</td>\n",
              "      <td>0.00</td>\n",
              "      <td>1.000</td>\n",
              "      <td>1.00</td>\n",
              "      <td>2.0</td>\n",
              "    </tr>\n",
              "    <tr>\n",
              "      <th>pet_category</th>\n",
              "      <td>18832.0</td>\n",
              "      <td>1.709218</td>\n",
              "      <td>0.717920</td>\n",
              "      <td>0.0</td>\n",
              "      <td>1.00</td>\n",
              "      <td>2.000</td>\n",
              "      <td>2.00</td>\n",
              "      <td>4.0</td>\n",
              "    </tr>\n",
              "    <tr>\n",
              "      <th>issue_date_Year</th>\n",
              "      <td>18832.0</td>\n",
              "      <td>2015.079917</td>\n",
              "      <td>3.103226</td>\n",
              "      <td>1994.0</td>\n",
              "      <td>2014.00</td>\n",
              "      <td>2016.000</td>\n",
              "      <td>2017.00</td>\n",
              "      <td>2019.0</td>\n",
              "    </tr>\n",
              "    <tr>\n",
              "      <th>issue_date_Month</th>\n",
              "      <td>18832.0</td>\n",
              "      <td>6.824607</td>\n",
              "      <td>3.300548</td>\n",
              "      <td>1.0</td>\n",
              "      <td>4.00</td>\n",
              "      <td>7.000</td>\n",
              "      <td>10.00</td>\n",
              "      <td>12.0</td>\n",
              "    </tr>\n",
              "    <tr>\n",
              "      <th>issue_date_Day</th>\n",
              "      <td>18832.0</td>\n",
              "      <td>15.750106</td>\n",
              "      <td>8.798779</td>\n",
              "      <td>1.0</td>\n",
              "      <td>8.00</td>\n",
              "      <td>16.000</td>\n",
              "      <td>23.00</td>\n",
              "      <td>31.0</td>\n",
              "    </tr>\n",
              "    <tr>\n",
              "      <th>issue_date_Dayofweek</th>\n",
              "      <td>18832.0</td>\n",
              "      <td>3.011151</td>\n",
              "      <td>2.015469</td>\n",
              "      <td>0.0</td>\n",
              "      <td>1.00</td>\n",
              "      <td>3.000</td>\n",
              "      <td>5.00</td>\n",
              "      <td>6.0</td>\n",
              "    </tr>\n",
              "    <tr>\n",
              "      <th>issue_date_DayOfyear</th>\n",
              "      <td>18832.0</td>\n",
              "      <td>192.360132</td>\n",
              "      <td>101.017190</td>\n",
              "      <td>1.0</td>\n",
              "      <td>110.00</td>\n",
              "      <td>197.000</td>\n",
              "      <td>277.00</td>\n",
              "      <td>366.0</td>\n",
              "    </tr>\n",
              "    <tr>\n",
              "      <th>issue_date_Week_No</th>\n",
              "      <td>18832.0</td>\n",
              "      <td>27.881691</td>\n",
              "      <td>14.422291</td>\n",
              "      <td>1.0</td>\n",
              "      <td>16.00</td>\n",
              "      <td>29.000</td>\n",
              "      <td>40.00</td>\n",
              "      <td>53.0</td>\n",
              "    </tr>\n",
              "    <tr>\n",
              "      <th>issue_date_Quarter</th>\n",
              "      <td>18832.0</td>\n",
              "      <td>2.618044</td>\n",
              "      <td>1.077369</td>\n",
              "      <td>1.0</td>\n",
              "      <td>2.00</td>\n",
              "      <td>3.000</td>\n",
              "      <td>4.00</td>\n",
              "      <td>4.0</td>\n",
              "    </tr>\n",
              "    <tr>\n",
              "      <th>issue_date_Is_weekend</th>\n",
              "      <td>18832.0</td>\n",
              "      <td>0.294339</td>\n",
              "      <td>0.455757</td>\n",
              "      <td>0.0</td>\n",
              "      <td>0.00</td>\n",
              "      <td>0.000</td>\n",
              "      <td>1.00</td>\n",
              "      <td>1.0</td>\n",
              "    </tr>\n",
              "    <tr>\n",
              "      <th>issue_date_Is_weekday</th>\n",
              "      <td>18832.0</td>\n",
              "      <td>0.705661</td>\n",
              "      <td>0.455757</td>\n",
              "      <td>0.0</td>\n",
              "      <td>0.00</td>\n",
              "      <td>1.000</td>\n",
              "      <td>1.00</td>\n",
              "      <td>1.0</td>\n",
              "    </tr>\n",
              "    <tr>\n",
              "      <th>listing_date_Year</th>\n",
              "      <td>18832.0</td>\n",
              "      <td>2017.426774</td>\n",
              "      <td>0.945406</td>\n",
              "      <td>2015.0</td>\n",
              "      <td>2017.00</td>\n",
              "      <td>2017.000</td>\n",
              "      <td>2018.00</td>\n",
              "      <td>2019.0</td>\n",
              "    </tr>\n",
              "    <tr>\n",
              "      <th>listing_date_Month</th>\n",
              "      <td>18832.0</td>\n",
              "      <td>6.766992</td>\n",
              "      <td>3.599084</td>\n",
              "      <td>1.0</td>\n",
              "      <td>4.00</td>\n",
              "      <td>7.000</td>\n",
              "      <td>10.00</td>\n",
              "      <td>12.0</td>\n",
              "    </tr>\n",
              "    <tr>\n",
              "      <th>listing_date_Day</th>\n",
              "      <td>18832.0</td>\n",
              "      <td>15.636576</td>\n",
              "      <td>8.811018</td>\n",
              "      <td>1.0</td>\n",
              "      <td>8.00</td>\n",
              "      <td>16.000</td>\n",
              "      <td>23.00</td>\n",
              "      <td>31.0</td>\n",
              "    </tr>\n",
              "    <tr>\n",
              "      <th>listing_date_Dayofweek</th>\n",
              "      <td>18832.0</td>\n",
              "      <td>3.063668</td>\n",
              "      <td>1.978653</td>\n",
              "      <td>0.0</td>\n",
              "      <td>1.00</td>\n",
              "      <td>3.000</td>\n",
              "      <td>5.00</td>\n",
              "      <td>6.0</td>\n",
              "    </tr>\n",
              "    <tr>\n",
              "      <th>listing_date_DayOfyear</th>\n",
              "      <td>18832.0</td>\n",
              "      <td>190.489858</td>\n",
              "      <td>110.168862</td>\n",
              "      <td>1.0</td>\n",
              "      <td>91.00</td>\n",
              "      <td>206.000</td>\n",
              "      <td>286.00</td>\n",
              "      <td>366.0</td>\n",
              "    </tr>\n",
              "    <tr>\n",
              "      <th>listing_date_Week_No</th>\n",
              "      <td>18832.0</td>\n",
              "      <td>27.524639</td>\n",
              "      <td>15.647731</td>\n",
              "      <td>1.0</td>\n",
              "      <td>13.00</td>\n",
              "      <td>30.000</td>\n",
              "      <td>41.00</td>\n",
              "      <td>52.0</td>\n",
              "    </tr>\n",
              "    <tr>\n",
              "      <th>listing_date_Quarter</th>\n",
              "      <td>18832.0</td>\n",
              "      <td>2.595847</td>\n",
              "      <td>1.155091</td>\n",
              "      <td>1.0</td>\n",
              "      <td>2.00</td>\n",
              "      <td>3.000</td>\n",
              "      <td>4.00</td>\n",
              "      <td>4.0</td>\n",
              "    </tr>\n",
              "    <tr>\n",
              "      <th>listing_date_Is_weekend</th>\n",
              "      <td>18832.0</td>\n",
              "      <td>0.294339</td>\n",
              "      <td>0.455757</td>\n",
              "      <td>0.0</td>\n",
              "      <td>0.00</td>\n",
              "      <td>0.000</td>\n",
              "      <td>1.00</td>\n",
              "      <td>1.0</td>\n",
              "    </tr>\n",
              "    <tr>\n",
              "      <th>listing_date_Is_weekday</th>\n",
              "      <td>18832.0</td>\n",
              "      <td>0.705661</td>\n",
              "      <td>0.455757</td>\n",
              "      <td>0.0</td>\n",
              "      <td>0.00</td>\n",
              "      <td>1.000</td>\n",
              "      <td>1.00</td>\n",
              "      <td>1.0</td>\n",
              "    </tr>\n",
              "    <tr>\n",
              "      <th>diff_date</th>\n",
              "      <td>18832.0</td>\n",
              "      <td>-0.113530</td>\n",
              "      <td>12.315066</td>\n",
              "      <td>-30.0</td>\n",
              "      <td>-8.00</td>\n",
              "      <td>-3.000</td>\n",
              "      <td>7.00</td>\n",
              "      <td>30.0</td>\n",
              "    </tr>\n",
              "    <tr>\n",
              "      <th>diff_month</th>\n",
              "      <td>18832.0</td>\n",
              "      <td>-0.057615</td>\n",
              "      <td>4.427818</td>\n",
              "      <td>-11.0</td>\n",
              "      <td>-1.00</td>\n",
              "      <td>1.000</td>\n",
              "      <td>3.00</td>\n",
              "      <td>11.0</td>\n",
              "    </tr>\n",
              "    <tr>\n",
              "      <th>diff_year</th>\n",
              "      <td>18832.0</td>\n",
              "      <td>2.346856</td>\n",
              "      <td>3.028745</td>\n",
              "      <td>0.0</td>\n",
              "      <td>0.00</td>\n",
              "      <td>1.000</td>\n",
              "      <td>3.00</td>\n",
              "      <td>23.0</td>\n",
              "    </tr>\n",
              "    <tr>\n",
              "      <th>length(cm)</th>\n",
              "      <td>18832.0</td>\n",
              "      <td>50.260408</td>\n",
              "      <td>28.870294</td>\n",
              "      <td>0.0</td>\n",
              "      <td>25.00</td>\n",
              "      <td>50.000</td>\n",
              "      <td>76.00</td>\n",
              "      <td>100.0</td>\n",
              "    </tr>\n",
              "  </tbody>\n",
              "</table>\n",
              "</div>"
            ],
            "text/plain": [
              "                           count         mean         std     min      25%  \\\n",
              "condition                18832.0     1.206245    1.331133     0.0     0.00   \n",
              "height(cm)               18832.0    27.447977   13.019967     5.0    16.17   \n",
              "X1                       18832.0     5.369477    6.572364     0.0     0.00   \n",
              "X2                       18832.0     4.577262    3.517706     0.0     1.00   \n",
              "breed_category           18832.0     0.600573    0.629894     0.0     0.00   \n",
              "pet_category             18832.0     1.709218    0.717920     0.0     1.00   \n",
              "issue_date_Year          18832.0  2015.079917    3.103226  1994.0  2014.00   \n",
              "issue_date_Month         18832.0     6.824607    3.300548     1.0     4.00   \n",
              "issue_date_Day           18832.0    15.750106    8.798779     1.0     8.00   \n",
              "issue_date_Dayofweek     18832.0     3.011151    2.015469     0.0     1.00   \n",
              "issue_date_DayOfyear     18832.0   192.360132  101.017190     1.0   110.00   \n",
              "issue_date_Week_No       18832.0    27.881691   14.422291     1.0    16.00   \n",
              "issue_date_Quarter       18832.0     2.618044    1.077369     1.0     2.00   \n",
              "issue_date_Is_weekend    18832.0     0.294339    0.455757     0.0     0.00   \n",
              "issue_date_Is_weekday    18832.0     0.705661    0.455757     0.0     0.00   \n",
              "listing_date_Year        18832.0  2017.426774    0.945406  2015.0  2017.00   \n",
              "listing_date_Month       18832.0     6.766992    3.599084     1.0     4.00   \n",
              "listing_date_Day         18832.0    15.636576    8.811018     1.0     8.00   \n",
              "listing_date_Dayofweek   18832.0     3.063668    1.978653     0.0     1.00   \n",
              "listing_date_DayOfyear   18832.0   190.489858  110.168862     1.0    91.00   \n",
              "listing_date_Week_No     18832.0    27.524639   15.647731     1.0    13.00   \n",
              "listing_date_Quarter     18832.0     2.595847    1.155091     1.0     2.00   \n",
              "listing_date_Is_weekend  18832.0     0.294339    0.455757     0.0     0.00   \n",
              "listing_date_Is_weekday  18832.0     0.705661    0.455757     0.0     0.00   \n",
              "diff_date                18832.0    -0.113530   12.315066   -30.0    -8.00   \n",
              "diff_month               18832.0    -0.057615    4.427818   -11.0    -1.00   \n",
              "diff_year                18832.0     2.346856    3.028745     0.0     0.00   \n",
              "length(cm)               18832.0    50.260408   28.870294     0.0    25.00   \n",
              "\n",
              "                              50%      75%     max  \n",
              "condition                   1.000     2.00     5.0  \n",
              "height(cm)                 27.335    38.89    50.0  \n",
              "X1                          0.000    13.00    19.0  \n",
              "X2                          4.000     9.00     9.0  \n",
              "breed_category              1.000     1.00     2.0  \n",
              "pet_category                2.000     2.00     4.0  \n",
              "issue_date_Year          2016.000  2017.00  2019.0  \n",
              "issue_date_Month            7.000    10.00    12.0  \n",
              "issue_date_Day             16.000    23.00    31.0  \n",
              "issue_date_Dayofweek        3.000     5.00     6.0  \n",
              "issue_date_DayOfyear      197.000   277.00   366.0  \n",
              "issue_date_Week_No         29.000    40.00    53.0  \n",
              "issue_date_Quarter          3.000     4.00     4.0  \n",
              "issue_date_Is_weekend       0.000     1.00     1.0  \n",
              "issue_date_Is_weekday       1.000     1.00     1.0  \n",
              "listing_date_Year        2017.000  2018.00  2019.0  \n",
              "listing_date_Month          7.000    10.00    12.0  \n",
              "listing_date_Day           16.000    23.00    31.0  \n",
              "listing_date_Dayofweek      3.000     5.00     6.0  \n",
              "listing_date_DayOfyear    206.000   286.00   366.0  \n",
              "listing_date_Week_No       30.000    41.00    52.0  \n",
              "listing_date_Quarter        3.000     4.00     4.0  \n",
              "listing_date_Is_weekend     0.000     1.00     1.0  \n",
              "listing_date_Is_weekday     1.000     1.00     1.0  \n",
              "diff_date                  -3.000     7.00    30.0  \n",
              "diff_month                  1.000     3.00    11.0  \n",
              "diff_year                   1.000     3.00    23.0  \n",
              "length(cm)                 50.000    76.00   100.0  "
            ]
          },
          "metadata": {
            "tags": []
          },
          "execution_count": 24
        }
      ]
    },
    {
      "cell_type": "markdown",
      "metadata": {
        "id": "cwOjUyzLvb7h"
      },
      "source": [
        "Let us get the more feature from length and height !!!"
      ]
    },
    {
      "cell_type": "markdown",
      "metadata": {
        "id": "eU_6eswPvb7h"
      },
      "source": [
        "length and height can not be less than 0. Let's verify it!!!"
      ]
    },
    {
      "cell_type": "code",
      "metadata": {
        "id": "qEvAgdwnvb7h",
        "outputId": "a1adbfa4-78cd-4769-ac1d-37ce2845019a"
      },
      "source": [
        "print(len(train[train['length(cm)'] == 0]))\n",
        "print(len(test[test['length(cm)'] == 0]))"
      ],
      "execution_count": null,
      "outputs": [
        {
          "output_type": "stream",
          "text": [
            "93\n",
            "44\n"
          ],
          "name": "stdout"
        }
      ]
    },
    {
      "cell_type": "code",
      "metadata": {
        "id": "k1XI70cRvb7i",
        "outputId": "bc8bac0b-8d96-4da2-d1b2-a2bba92262b8"
      },
      "source": [
        "print(len(train[train['height(cm)'] == 0]))\n",
        "print(len(test[test['height(cm)'] == 0]))"
      ],
      "execution_count": null,
      "outputs": [
        {
          "output_type": "stream",
          "text": [
            "0\n",
            "0\n"
          ],
          "name": "stdout"
        }
      ]
    },
    {
      "cell_type": "markdown",
      "metadata": {
        "id": "4uXq8-URvb7i"
      },
      "source": [
        "Imputing mean values for length as 0"
      ]
    },
    {
      "cell_type": "code",
      "metadata": {
        "id": "fZng-v_7vb7j"
      },
      "source": [
        "val1 = train['length(cm)'].mean()\n",
        "val2 = test['length(cm)'].mean()\n",
        "train['length(cm)'] = train['length(cm)'].replace(to_replace=0, value=val1)\n",
        "test['length(cm)'] = test['length(cm)'].replace(to_replace=0, value=val2)"
      ],
      "execution_count": null,
      "outputs": []
    },
    {
      "cell_type": "markdown",
      "metadata": {
        "id": "2uG-sqOvvb7j"
      },
      "source": [
        "creating groups from length and height values ratio and product features!!!"
      ]
    },
    {
      "cell_type": "code",
      "metadata": {
        "id": "ci7DRAetvb7j",
        "outputId": "9c63dc6e-1eee-4df0-90de-0b9e44949e47"
      },
      "source": [
        "\n",
        "def calc_len(x):\n",
        "    if x <= 20:\n",
        "        return 201\n",
        "    elif x <= 40:\n",
        "        return 301\n",
        "    elif x <= 60:\n",
        "        return 401\n",
        "    elif x <= 80:\n",
        "        return 501\n",
        "    elif x <= 100:\n",
        "        return 601\n",
        "        \n",
        "train['length(cm)_group'] = pd.Series()\n",
        "test['length(cm)_group'] = pd.Series()\n",
        "train['length(cm)_group'] = train['length(cm)'].apply(lambda x: calc_len(x))\n",
        "test['length(cm)_group'] = test['length(cm)'].apply(lambda x: calc_len(x))\n"
      ],
      "execution_count": null,
      "outputs": [
        {
          "output_type": "stream",
          "text": [
            "C:\\Users\\Balaji\\anaconda3\\lib\\site-packages\\ipykernel_launcher.py:13: DeprecationWarning: The default dtype for empty Series will be 'object' instead of 'float64' in a future version. Specify a dtype explicitly to silence this warning.\n",
            "  del sys.path[0]\n",
            "C:\\Users\\Balaji\\anaconda3\\lib\\site-packages\\ipykernel_launcher.py:14: DeprecationWarning: The default dtype for empty Series will be 'object' instead of 'float64' in a future version. Specify a dtype explicitly to silence this warning.\n",
            "  \n"
          ],
          "name": "stderr"
        }
      ]
    },
    {
      "cell_type": "code",
      "metadata": {
        "id": "VuOiSjuwvb7k",
        "outputId": "56885466-00d5-42e6-aa58-e1e51d2ebbf3"
      },
      "source": [
        "\n",
        "def calc_ht(x):\n",
        "    if x <= 15:\n",
        "        return 61\n",
        "    elif x <= 25:\n",
        "        return 62\n",
        "    elif x <= 35:\n",
        "        return 63\n",
        "    elif x <= 45:\n",
        "        return 64\n",
        "    elif x <= 55:\n",
        "        return 65\n",
        "\n",
        "train['height(cm)_group'] = pd.Series()\n",
        "test['height(cm)_group'] = pd.Series()\n",
        "train['height(cm)_group'] = train['height(cm)'].apply(lambda x: calc_ht(x))\n",
        "test['height(cm)_group'] = test['height(cm)'].apply(lambda x: calc_ht(x))\n",
        "\n",
        "\n",
        "train['ratio_len_height'] = train['length(cm)']/train['height(cm)']\n",
        "test['ratio_len_height'] = test['length(cm)']/test['height(cm)']\n",
        "\n",
        "train['ratio_x_height'] = train['length(cm)']*train['height(cm)']\n",
        "test['ratio_x_height'] = test['length(cm)']*test['height(cm)']"
      ],
      "execution_count": null,
      "outputs": [
        {
          "output_type": "stream",
          "text": [
            "C:\\Users\\Balaji\\anaconda3\\lib\\site-packages\\ipykernel_launcher.py:13: DeprecationWarning: The default dtype for empty Series will be 'object' instead of 'float64' in a future version. Specify a dtype explicitly to silence this warning.\n",
            "  del sys.path[0]\n",
            "C:\\Users\\Balaji\\anaconda3\\lib\\site-packages\\ipykernel_launcher.py:14: DeprecationWarning: The default dtype for empty Series will be 'object' instead of 'float64' in a future version. Specify a dtype explicitly to silence this warning.\n",
            "  \n"
          ],
          "name": "stderr"
        }
      ]
    },
    {
      "cell_type": "code",
      "metadata": {
        "id": "K03Xbkd5vb7k",
        "outputId": "df0c3a6c-5bf4-41a1-c49e-dfc8d28f975d"
      },
      "source": [
        "train.head()"
      ],
      "execution_count": null,
      "outputs": [
        {
          "output_type": "execute_result",
          "data": {
            "text/html": [
              "<div>\n",
              "<style scoped>\n",
              "    .dataframe tbody tr th:only-of-type {\n",
              "        vertical-align: middle;\n",
              "    }\n",
              "\n",
              "    .dataframe tbody tr th {\n",
              "        vertical-align: top;\n",
              "    }\n",
              "\n",
              "    .dataframe thead th {\n",
              "        text-align: right;\n",
              "    }\n",
              "</style>\n",
              "<table border=\"1\" class=\"dataframe\">\n",
              "  <thead>\n",
              "    <tr style=\"text-align: right;\">\n",
              "      <th></th>\n",
              "      <th>pet_id</th>\n",
              "      <th>condition</th>\n",
              "      <th>color_type</th>\n",
              "      <th>height(cm)</th>\n",
              "      <th>X1</th>\n",
              "      <th>X2</th>\n",
              "      <th>breed_category</th>\n",
              "      <th>pet_category</th>\n",
              "      <th>issue_date_Year</th>\n",
              "      <th>issue_date_Month</th>\n",
              "      <th>...</th>\n",
              "      <th>listing_date_Is_weekend</th>\n",
              "      <th>listing_date_Is_weekday</th>\n",
              "      <th>diff_date</th>\n",
              "      <th>diff_month</th>\n",
              "      <th>diff_year</th>\n",
              "      <th>length(cm)</th>\n",
              "      <th>length(cm)_group</th>\n",
              "      <th>height(cm)_group</th>\n",
              "      <th>ratio_len_height</th>\n",
              "      <th>ratio_x_height</th>\n",
              "    </tr>\n",
              "  </thead>\n",
              "  <tbody>\n",
              "    <tr>\n",
              "      <th>0</th>\n",
              "      <td>ANSL_69903</td>\n",
              "      <td>2.0</td>\n",
              "      <td>Brown Tabby</td>\n",
              "      <td>7.78</td>\n",
              "      <td>13</td>\n",
              "      <td>9</td>\n",
              "      <td>0.0</td>\n",
              "      <td>1</td>\n",
              "      <td>2016</td>\n",
              "      <td>7</td>\n",
              "      <td>...</td>\n",
              "      <td>1</td>\n",
              "      <td>0</td>\n",
              "      <td>11</td>\n",
              "      <td>2</td>\n",
              "      <td>0</td>\n",
              "      <td>80.0</td>\n",
              "      <td>501</td>\n",
              "      <td>61</td>\n",
              "      <td>10.282776</td>\n",
              "      <td>622.40</td>\n",
              "    </tr>\n",
              "    <tr>\n",
              "      <th>1</th>\n",
              "      <td>ANSL_66892</td>\n",
              "      <td>1.0</td>\n",
              "      <td>White</td>\n",
              "      <td>14.19</td>\n",
              "      <td>13</td>\n",
              "      <td>9</td>\n",
              "      <td>0.0</td>\n",
              "      <td>2</td>\n",
              "      <td>2013</td>\n",
              "      <td>11</td>\n",
              "      <td>...</td>\n",
              "      <td>0</td>\n",
              "      <td>1</td>\n",
              "      <td>6</td>\n",
              "      <td>1</td>\n",
              "      <td>5</td>\n",
              "      <td>72.0</td>\n",
              "      <td>501</td>\n",
              "      <td>61</td>\n",
              "      <td>5.073996</td>\n",
              "      <td>1021.68</td>\n",
              "    </tr>\n",
              "    <tr>\n",
              "      <th>2</th>\n",
              "      <td>ANSL_69750</td>\n",
              "      <td>5.0</td>\n",
              "      <td>Brown</td>\n",
              "      <td>40.90</td>\n",
              "      <td>15</td>\n",
              "      <td>4</td>\n",
              "      <td>2.0</td>\n",
              "      <td>4</td>\n",
              "      <td>2014</td>\n",
              "      <td>9</td>\n",
              "      <td>...</td>\n",
              "      <td>1</td>\n",
              "      <td>0</td>\n",
              "      <td>-9</td>\n",
              "      <td>1</td>\n",
              "      <td>2</td>\n",
              "      <td>15.0</td>\n",
              "      <td>201</td>\n",
              "      <td>64</td>\n",
              "      <td>0.366748</td>\n",
              "      <td>613.50</td>\n",
              "    </tr>\n",
              "    <tr>\n",
              "      <th>3</th>\n",
              "      <td>ANSL_71623</td>\n",
              "      <td>1.0</td>\n",
              "      <td>White</td>\n",
              "      <td>17.82</td>\n",
              "      <td>0</td>\n",
              "      <td>1</td>\n",
              "      <td>0.0</td>\n",
              "      <td>2</td>\n",
              "      <td>2016</td>\n",
              "      <td>12</td>\n",
              "      <td>...</td>\n",
              "      <td>1</td>\n",
              "      <td>0</td>\n",
              "      <td>-6</td>\n",
              "      <td>-11</td>\n",
              "      <td>3</td>\n",
              "      <td>62.0</td>\n",
              "      <td>501</td>\n",
              "      <td>62</td>\n",
              "      <td>3.479237</td>\n",
              "      <td>1104.84</td>\n",
              "    </tr>\n",
              "    <tr>\n",
              "      <th>4</th>\n",
              "      <td>ANSL_57969</td>\n",
              "      <td>2.0</td>\n",
              "      <td>Black</td>\n",
              "      <td>11.06</td>\n",
              "      <td>18</td>\n",
              "      <td>4</td>\n",
              "      <td>0.0</td>\n",
              "      <td>1</td>\n",
              "      <td>2017</td>\n",
              "      <td>9</td>\n",
              "      <td>...</td>\n",
              "      <td>0</td>\n",
              "      <td>1</td>\n",
              "      <td>-9</td>\n",
              "      <td>2</td>\n",
              "      <td>0</td>\n",
              "      <td>50.0</td>\n",
              "      <td>401</td>\n",
              "      <td>61</td>\n",
              "      <td>4.520796</td>\n",
              "      <td>553.00</td>\n",
              "    </tr>\n",
              "  </tbody>\n",
              "</table>\n",
              "<p>5 rows × 46 columns</p>\n",
              "</div>"
            ],
            "text/plain": [
              "       pet_id  condition   color_type  height(cm)  X1  X2  breed_category  \\\n",
              "0  ANSL_69903        2.0  Brown Tabby        7.78  13   9             0.0   \n",
              "1  ANSL_66892        1.0        White       14.19  13   9             0.0   \n",
              "2  ANSL_69750        5.0        Brown       40.90  15   4             2.0   \n",
              "3  ANSL_71623        1.0        White       17.82   0   1             0.0   \n",
              "4  ANSL_57969        2.0        Black       11.06  18   4             0.0   \n",
              "\n",
              "   pet_category  issue_date_Year  issue_date_Month  ...  \\\n",
              "0             1             2016                 7  ...   \n",
              "1             2             2013                11  ...   \n",
              "2             4             2014                 9  ...   \n",
              "3             2             2016                12  ...   \n",
              "4             1             2017                 9  ...   \n",
              "\n",
              "   listing_date_Is_weekend  listing_date_Is_weekday  diff_date  diff_month  \\\n",
              "0                        1                        0         11           2   \n",
              "1                        0                        1          6           1   \n",
              "2                        1                        0         -9           1   \n",
              "3                        1                        0         -6         -11   \n",
              "4                        0                        1         -9           2   \n",
              "\n",
              "   diff_year  length(cm)  length(cm)_group  height(cm)_group  \\\n",
              "0          0        80.0               501                61   \n",
              "1          5        72.0               501                61   \n",
              "2          2        15.0               201                64   \n",
              "3          3        62.0               501                62   \n",
              "4          0        50.0               401                61   \n",
              "\n",
              "   ratio_len_height  ratio_x_height  \n",
              "0         10.282776          622.40  \n",
              "1          5.073996         1021.68  \n",
              "2          0.366748          613.50  \n",
              "3          3.479237         1104.84  \n",
              "4          4.520796          553.00  \n",
              "\n",
              "[5 rows x 46 columns]"
            ]
          },
          "metadata": {
            "tags": []
          },
          "execution_count": 30
        }
      ]
    },
    {
      "cell_type": "markdown",
      "metadata": {
        "id": "qJIfJreFvb7l"
      },
      "source": [
        "Let's get insights from color_type features"
      ]
    },
    {
      "cell_type": "code",
      "metadata": {
        "id": "03R56zvLvb7l",
        "outputId": "3ee3dd6b-e29c-458c-bd85-869626d397eb"
      },
      "source": [
        "print(train['color_type'].nunique())\n",
        "print(test['color_type'].nunique())"
      ],
      "execution_count": null,
      "outputs": [
        {
          "output_type": "stream",
          "text": [
            "56\n",
            "54\n"
          ],
          "name": "stdout"
        }
      ]
    },
    {
      "cell_type": "code",
      "metadata": {
        "id": "O2RwtHDFvb7m",
        "outputId": "8ae47967-d61d-44d2-8ada-a1c6a972afc0"
      },
      "source": [
        "# 2 values are not matched, let's see which those values are\n",
        "set(train.color_type) - set(test.color_type)"
      ],
      "execution_count": null,
      "outputs": [
        {
          "output_type": "execute_result",
          "data": {
            "text/plain": [
              "{'Black Tiger', 'Brown Tiger'}"
            ]
          },
          "metadata": {
            "tags": []
          },
          "execution_count": 32
        }
      ]
    },
    {
      "cell_type": "code",
      "metadata": {
        "id": "UESvdM-vvb7m"
      },
      "source": [
        "# Imputing probability (mean) values for color_type with respect to pet category and breed category!!!\n",
        "\n",
        "pet_Cat = dict(train.groupby('color_type').mean()['pet_category'])\n",
        "train['color_pet_cat'] = train['color_type'].map(pet_Cat)\n",
        "pet_Cat2 = dict(train.groupby('color_type').mean()['pet_category'])\n",
        "test['color_pet_cat'] = test['color_type'].map(pet_Cat2)\n",
        "\n",
        "\n",
        "breed_Cat = dict(train.groupby('color_type').mean()['breed_category'])\n",
        "train['color_breed_Cat'] = train['color_type'].map(breed_Cat)\n",
        "breed_Cat2 = dict(train.groupby('color_type').mean()['breed_category'])\n",
        "test['color_breed_Cat'] = test['color_type'].map(breed_Cat2)\n",
        "\n",
        "\n",
        "train.drop(['color_type'], axis = 1, inplace=True)\n",
        "test.drop(['color_type'], axis = 1, inplace=True)"
      ],
      "execution_count": null,
      "outputs": []
    },
    {
      "cell_type": "markdown",
      "metadata": {
        "id": "s3-MYvcJvb7m"
      },
      "source": [
        "Let us get the more insights from feature pet_id !!!"
      ]
    },
    {
      "cell_type": "code",
      "metadata": {
        "id": "LTXNCRWpvb7m"
      },
      "source": [
        "train['pet_id_1'] = train['pet_id'].apply(lambda x: int(x[5:6]))\n",
        "train['pet_id_2'] = train['pet_id'].apply(lambda x: int(x[5:7]))\n",
        "\n",
        "# I used more digits than 2, but it was more varying so decided to drop it.\n",
        "# train['pet_id_3'] = train['pet_id'].apply(lambda x: int(x[5:8])) \n",
        "# train['pet_id_all'] = train['pet_id'].apply(lambda x: int(x[5:]))    "
      ],
      "execution_count": null,
      "outputs": []
    },
    {
      "cell_type": "code",
      "metadata": {
        "id": "pCWd7YHEvb7n"
      },
      "source": [
        "test['pet_id_1'] = test['pet_id'].apply(lambda x: int(x[5:6]))\n",
        "test['pet_id_2'] = test['pet_id'].apply(lambda x: int(x[5:7]))"
      ],
      "execution_count": null,
      "outputs": []
    },
    {
      "cell_type": "code",
      "metadata": {
        "id": "-BqflJRAvb7n",
        "outputId": "15779ff2-00c1-472f-a78a-61abede7aa62"
      },
      "source": [
        "set(train.pet_id_2) - set(test.pet_id_2)"
      ],
      "execution_count": null,
      "outputs": [
        {
          "output_type": "execute_result",
          "data": {
            "text/plain": [
              "set()"
            ]
          },
          "metadata": {
            "tags": []
          },
          "execution_count": 36
        }
      ]
    },
    {
      "cell_type": "code",
      "metadata": {
        "id": "zhMvc3LWvb7n",
        "outputId": "c01a06fc-9b2e-4b16-f482-81d4c8252ade"
      },
      "source": [
        "train.pet_id_1.value_counts()"
      ],
      "execution_count": null,
      "outputs": [
        {
          "output_type": "execute_result",
          "data": {
            "text/plain": [
              "6    7004\n",
              "5    6998\n",
              "7    4813\n",
              "4      17\n",
              "Name: pet_id_1, dtype: int64"
            ]
          },
          "metadata": {
            "tags": []
          },
          "execution_count": 37
        }
      ]
    },
    {
      "cell_type": "code",
      "metadata": {
        "scrolled": true,
        "id": "VkSQR41Lvb7o",
        "outputId": "4cec0b07-8043-4b7d-e1c4-4cefe9e0ea7c"
      },
      "source": [
        "test.pet_id_1.value_counts()"
      ],
      "execution_count": null,
      "outputs": [
        {
          "output_type": "execute_result",
          "data": {
            "text/plain": [
              "5    3000\n",
              "6    2995\n",
              "7    2064\n",
              "4      13\n",
              "Name: pet_id_1, dtype: int64"
            ]
          },
          "metadata": {
            "tags": []
          },
          "execution_count": 38
        }
      ]
    },
    {
      "cell_type": "code",
      "metadata": {
        "id": "nzUfX0vIvb7o",
        "outputId": "47864322-bd57-4459-d21e-54ddfa54fbad"
      },
      "source": [
        "train.pet_id_2.value_counts().count()"
      ],
      "execution_count": null,
      "outputs": [
        {
          "output_type": "execute_result",
          "data": {
            "text/plain": [
              "28"
            ]
          },
          "metadata": {
            "tags": []
          },
          "execution_count": 39
        }
      ]
    },
    {
      "cell_type": "code",
      "metadata": {
        "scrolled": true,
        "id": "B5EiblTbvb7o",
        "outputId": "d08e99cf-b545-4e88-f079-647370b50baa"
      },
      "source": [
        "train.pet_id_2.value_counts()"
      ],
      "execution_count": null,
      "outputs": [
        {
          "output_type": "execute_result",
          "data": {
            "text/plain": [
              "61    739\n",
              "70    715\n",
              "60    714\n",
              "52    713\n",
              "55    712\n",
              "59    708\n",
              "58    708\n",
              "73    708\n",
              "72    705\n",
              "62    703\n",
              "51    702\n",
              "67    702\n",
              "56    700\n",
              "54    699\n",
              "63    699\n",
              "57    699\n",
              "75    699\n",
              "64    699\n",
              "66    695\n",
              "65    692\n",
              "68    691\n",
              "50    689\n",
              "74    682\n",
              "71    677\n",
              "69    670\n",
              "53    668\n",
              "76    627\n",
              "49     17\n",
              "Name: pet_id_2, dtype: int64"
            ]
          },
          "metadata": {
            "tags": []
          },
          "execution_count": 40
        }
      ]
    },
    {
      "cell_type": "code",
      "metadata": {
        "id": "ml-nRfOYvb7p",
        "outputId": "edf85afb-53ab-4936-b002-655c99233ac5"
      },
      "source": [
        "test.pet_id_2.value_counts().count()"
      ],
      "execution_count": null,
      "outputs": [
        {
          "output_type": "execute_result",
          "data": {
            "text/plain": [
              "28"
            ]
          },
          "metadata": {
            "tags": []
          },
          "execution_count": 41
        }
      ]
    },
    {
      "cell_type": "code",
      "metadata": {
        "scrolled": true,
        "id": "2LG4rQuWvb7p",
        "outputId": "fc844a04-0c5c-4820-ee22-6885f89cce94"
      },
      "source": [
        "test.pet_id_2.value_counts()"
      ],
      "execution_count": null,
      "outputs": [
        {
          "output_type": "execute_result",
          "data": {
            "text/plain": [
              "53    332\n",
              "69    330\n",
              "71    323\n",
              "74    318\n",
              "50    311\n",
              "68    309\n",
              "65    308\n",
              "66    305\n",
              "57    301\n",
              "54    301\n",
              "64    301\n",
              "75    301\n",
              "56    300\n",
              "63    300\n",
              "51    298\n",
              "67    298\n",
              "62    297\n",
              "72    295\n",
              "73    292\n",
              "58    292\n",
              "59    291\n",
              "55    288\n",
              "60    286\n",
              "52    286\n",
              "70    285\n",
              "61    261\n",
              "76    250\n",
              "49     13\n",
              "Name: pet_id_2, dtype: int64"
            ]
          },
          "metadata": {
            "tags": []
          },
          "execution_count": 42
        }
      ]
    },
    {
      "cell_type": "code",
      "metadata": {
        "id": "DudNyZrMvb7q"
      },
      "source": [
        "# Imputing probability (mean) values for features pet_id_1 and pet_id_2 with respect to pet category and breed category!!!\n",
        "\n",
        "pet_Cat = dict(train.groupby('pet_id_1').mean()['pet_category'])\n",
        "train['color_pet_id1'] = train['pet_id_1'].map(pet_Cat)\n",
        "pet_Cat2 = dict(train.groupby('pet_id_1').mean()['pet_category'])\n",
        "test['color_pet_id1'] = test['pet_id_1'].map(pet_Cat2)\n",
        "\n",
        "breed_Cat = dict(train.groupby('pet_id_1').mean()['breed_category'])\n",
        "train['color_breed_id1'] = train['pet_id_1'].map(breed_Cat)\n",
        "breed_Cat2 = dict(train.groupby('pet_id_1').mean()['breed_category'])\n",
        "test['color_breed_id1'] = test['pet_id_1'].map(breed_Cat2)\n",
        "\n",
        "\n",
        "pet_Cat = dict(train.groupby('pet_id_2').mean()['pet_category'])\n",
        "train['color_pet_id2'] = train['pet_id_2'].map(pet_Cat)\n",
        "pet_Cat2 = dict(train.groupby('pet_id_2').mean()['pet_category'])\n",
        "test['color_pet_id2'] = test['pet_id_2'].map(pet_Cat2)\n",
        "\n",
        "breed_Cat = dict(train.groupby('pet_id_2').mean()['breed_category'])\n",
        "train['color_breed_id2'] = train['pet_id_2'].map(breed_Cat)\n",
        "breed_Cat2 = dict(train.groupby('pet_id_2').mean()['breed_category'])\n",
        "test['color_breed_id2'] = test['pet_id_2'].map(breed_Cat2)\n",
        "\n",
        "\n",
        "train.drop(['pet_id', 'pet_id_2'], axis = 1, inplace=True)\n",
        "test.drop(['pet_id', 'pet_id_2'], axis = 1, inplace=True)"
      ],
      "execution_count": null,
      "outputs": []
    },
    {
      "cell_type": "code",
      "metadata": {
        "id": "ZbvvOv_Zvb7q",
        "outputId": "c7fb1808-8f6a-4a1a-c884-a045167586b9"
      },
      "source": [
        "train.head()"
      ],
      "execution_count": null,
      "outputs": [
        {
          "output_type": "execute_result",
          "data": {
            "text/html": [
              "<div>\n",
              "<style scoped>\n",
              "    .dataframe tbody tr th:only-of-type {\n",
              "        vertical-align: middle;\n",
              "    }\n",
              "\n",
              "    .dataframe tbody tr th {\n",
              "        vertical-align: top;\n",
              "    }\n",
              "\n",
              "    .dataframe thead th {\n",
              "        text-align: right;\n",
              "    }\n",
              "</style>\n",
              "<table border=\"1\" class=\"dataframe\">\n",
              "  <thead>\n",
              "    <tr style=\"text-align: right;\">\n",
              "      <th></th>\n",
              "      <th>condition</th>\n",
              "      <th>height(cm)</th>\n",
              "      <th>X1</th>\n",
              "      <th>X2</th>\n",
              "      <th>breed_category</th>\n",
              "      <th>pet_category</th>\n",
              "      <th>issue_date_Year</th>\n",
              "      <th>issue_date_Month</th>\n",
              "      <th>issue_date_Day</th>\n",
              "      <th>issue_date_Dayofweek</th>\n",
              "      <th>...</th>\n",
              "      <th>height(cm)_group</th>\n",
              "      <th>ratio_len_height</th>\n",
              "      <th>ratio_x_height</th>\n",
              "      <th>color_pet_cat</th>\n",
              "      <th>color_breed_Cat</th>\n",
              "      <th>pet_id_1</th>\n",
              "      <th>color_pet_id1</th>\n",
              "      <th>color_breed_id1</th>\n",
              "      <th>color_pet_id2</th>\n",
              "      <th>color_breed_id2</th>\n",
              "    </tr>\n",
              "  </thead>\n",
              "  <tbody>\n",
              "    <tr>\n",
              "      <th>0</th>\n",
              "      <td>2.0</td>\n",
              "      <td>7.78</td>\n",
              "      <td>13</td>\n",
              "      <td>9</td>\n",
              "      <td>0.0</td>\n",
              "      <td>1</td>\n",
              "      <td>2016</td>\n",
              "      <td>7</td>\n",
              "      <td>10</td>\n",
              "      <td>6</td>\n",
              "      <td>...</td>\n",
              "      <td>61</td>\n",
              "      <td>10.282776</td>\n",
              "      <td>622.40</td>\n",
              "      <td>1.000000</td>\n",
              "      <td>0.628334</td>\n",
              "      <td>6</td>\n",
              "      <td>1.699600</td>\n",
              "      <td>0.606511</td>\n",
              "      <td>1.683582</td>\n",
              "      <td>0.582090</td>\n",
              "    </tr>\n",
              "    <tr>\n",
              "      <th>1</th>\n",
              "      <td>1.0</td>\n",
              "      <td>14.19</td>\n",
              "      <td>13</td>\n",
              "      <td>9</td>\n",
              "      <td>0.0</td>\n",
              "      <td>2</td>\n",
              "      <td>2013</td>\n",
              "      <td>11</td>\n",
              "      <td>21</td>\n",
              "      <td>3</td>\n",
              "      <td>...</td>\n",
              "      <td>61</td>\n",
              "      <td>5.073996</td>\n",
              "      <td>1021.68</td>\n",
              "      <td>1.883000</td>\n",
              "      <td>0.520587</td>\n",
              "      <td>6</td>\n",
              "      <td>1.699600</td>\n",
              "      <td>0.606511</td>\n",
              "      <td>1.687770</td>\n",
              "      <td>0.600000</td>\n",
              "    </tr>\n",
              "    <tr>\n",
              "      <th>2</th>\n",
              "      <td>5.0</td>\n",
              "      <td>40.90</td>\n",
              "      <td>15</td>\n",
              "      <td>4</td>\n",
              "      <td>2.0</td>\n",
              "      <td>4</td>\n",
              "      <td>2014</td>\n",
              "      <td>9</td>\n",
              "      <td>28</td>\n",
              "      <td>6</td>\n",
              "      <td>...</td>\n",
              "      <td>64</td>\n",
              "      <td>0.366748</td>\n",
              "      <td>613.50</td>\n",
              "      <td>2.467895</td>\n",
              "      <td>0.808487</td>\n",
              "      <td>6</td>\n",
              "      <td>1.699600</td>\n",
              "      <td>0.606511</td>\n",
              "      <td>1.683582</td>\n",
              "      <td>0.582090</td>\n",
              "    </tr>\n",
              "    <tr>\n",
              "      <th>3</th>\n",
              "      <td>1.0</td>\n",
              "      <td>17.82</td>\n",
              "      <td>0</td>\n",
              "      <td>1</td>\n",
              "      <td>0.0</td>\n",
              "      <td>2</td>\n",
              "      <td>2016</td>\n",
              "      <td>12</td>\n",
              "      <td>31</td>\n",
              "      <td>5</td>\n",
              "      <td>...</td>\n",
              "      <td>62</td>\n",
              "      <td>3.479237</td>\n",
              "      <td>1104.84</td>\n",
              "      <td>1.883000</td>\n",
              "      <td>0.520587</td>\n",
              "      <td>7</td>\n",
              "      <td>1.718679</td>\n",
              "      <td>0.584251</td>\n",
              "      <td>1.683900</td>\n",
              "      <td>0.583456</td>\n",
              "    </tr>\n",
              "    <tr>\n",
              "      <th>4</th>\n",
              "      <td>2.0</td>\n",
              "      <td>11.06</td>\n",
              "      <td>18</td>\n",
              "      <td>4</td>\n",
              "      <td>0.0</td>\n",
              "      <td>1</td>\n",
              "      <td>2017</td>\n",
              "      <td>9</td>\n",
              "      <td>28</td>\n",
              "      <td>3</td>\n",
              "      <td>...</td>\n",
              "      <td>61</td>\n",
              "      <td>4.520796</td>\n",
              "      <td>553.00</td>\n",
              "      <td>1.712925</td>\n",
              "      <td>0.557480</td>\n",
              "      <td>5</td>\n",
              "      <td>1.712489</td>\n",
              "      <td>0.606316</td>\n",
              "      <td>1.685265</td>\n",
              "      <td>0.597997</td>\n",
              "    </tr>\n",
              "  </tbody>\n",
              "</table>\n",
              "<p>5 rows × 51 columns</p>\n",
              "</div>"
            ],
            "text/plain": [
              "   condition  height(cm)  X1  X2  breed_category  pet_category  \\\n",
              "0        2.0        7.78  13   9             0.0             1   \n",
              "1        1.0       14.19  13   9             0.0             2   \n",
              "2        5.0       40.90  15   4             2.0             4   \n",
              "3        1.0       17.82   0   1             0.0             2   \n",
              "4        2.0       11.06  18   4             0.0             1   \n",
              "\n",
              "   issue_date_Year  issue_date_Month  issue_date_Day  issue_date_Dayofweek  \\\n",
              "0             2016                 7              10                     6   \n",
              "1             2013                11              21                     3   \n",
              "2             2014                 9              28                     6   \n",
              "3             2016                12              31                     5   \n",
              "4             2017                 9              28                     3   \n",
              "\n",
              "   ...  height(cm)_group  ratio_len_height  ratio_x_height  color_pet_cat  \\\n",
              "0  ...                61         10.282776          622.40       1.000000   \n",
              "1  ...                61          5.073996         1021.68       1.883000   \n",
              "2  ...                64          0.366748          613.50       2.467895   \n",
              "3  ...                62          3.479237         1104.84       1.883000   \n",
              "4  ...                61          4.520796          553.00       1.712925   \n",
              "\n",
              "   color_breed_Cat  pet_id_1  color_pet_id1  color_breed_id1  color_pet_id2  \\\n",
              "0         0.628334         6       1.699600         0.606511       1.683582   \n",
              "1         0.520587         6       1.699600         0.606511       1.687770   \n",
              "2         0.808487         6       1.699600         0.606511       1.683582   \n",
              "3         0.520587         7       1.718679         0.584251       1.683900   \n",
              "4         0.557480         5       1.712489         0.606316       1.685265   \n",
              "\n",
              "   color_breed_id2  \n",
              "0         0.582090  \n",
              "1         0.600000  \n",
              "2         0.582090  \n",
              "3         0.583456  \n",
              "4         0.597997  \n",
              "\n",
              "[5 rows x 51 columns]"
            ]
          },
          "metadata": {
            "tags": []
          },
          "execution_count": 44
        }
      ]
    },
    {
      "cell_type": "markdown",
      "metadata": {
        "id": "s_CAnPBbvb7r"
      },
      "source": [
        "For feature selection we can use any of the feature selection tests like, f_classif, chi2, mutual_info_classif.\n",
        "\n",
        "I used ANOVA-F value f_classif for selecting 20 most important features which gave best f1_score"
      ]
    },
    {
      "cell_type": "markdown",
      "metadata": {
        "id": "SKAwWXxDvb7r"
      },
      "source": [
        "Creating 2 different models for pet_category and breed_category classification"
      ]
    },
    {
      "cell_type": "markdown",
      "metadata": {
        "id": "OiVGCcLIvb7r"
      },
      "source": [
        "# 1. pet_category:"
      ]
    },
    {
      "cell_type": "code",
      "metadata": {
        "id": "YEtKuIBFvb7r"
      },
      "source": [
        "np.random.seed(42)\n",
        "y1 = train['pet_category']\n",
        "X1 = train.drop(['pet_category','breed_category'], axis=1)\n",
        "\n",
        "from sklearn.feature_selection import SelectKBest, f_classif\n",
        "model = pd.DataFrame(SelectKBest(f_classif, k=20).fit_transform(X1, y1))"
      ],
      "execution_count": null,
      "outputs": []
    },
    {
      "cell_type": "code",
      "metadata": {
        "id": "ndZqbBkUvb7s"
      },
      "source": [
        "features1 = ['condition','X1','X2','issue_date_Year', 'issue_date_Month', 'issue_date_Day','issue_date_DayOfyear', \n",
        "             'issue_date_Week_No', 'issue_date_Quarter', 'listing_date_Year', 'listing_date_Month','listing_date_Week_No', \n",
        "             'listing_date_Quarter', 'diff_date', 'diff_month', 'diff_year','color_pet_cat', 'color_breed_Cat',\n",
        "             'color_pet_id2', 'color_breed_id2']\n",
        "X_new1 = train[model]\n",
        "test1 = test[features1]"
      ],
      "execution_count": null,
      "outputs": []
    },
    {
      "cell_type": "code",
      "metadata": {
        "id": "49Mu5Qtcvb7s"
      },
      "source": [
        "r = ['X1', 'X2','issue_date_Year', 'issue_date_Day', 'issue_date_DayOfyear','diff_year',\n",
        "     'issue_date_Week_No', 'listing_date_Year', 'listing_date_Week_No']"
      ],
      "execution_count": null,
      "outputs": []
    },
    {
      "cell_type": "raw",
      "metadata": {
        "id": "T0F7yF-Rvb7s"
      },
      "source": [
        "for i in r:\n",
        "    plt.figure(figsize=(10,8))\n",
        "    sns.boxplot(X_new1[i])"
      ]
    },
    {
      "cell_type": "raw",
      "metadata": {
        "id": "2vmymVuTvb7t"
      },
      "source": [
        "for i in r:\n",
        "    plt.figure(figsize=(10,8))\n",
        "    sns.distplot(X_new1[i])"
      ]
    },
    {
      "cell_type": "raw",
      "metadata": {
        "id": "EyBpRJC2vb7t"
      },
      "source": [
        "for i in r:\n",
        "    plt.figure(figsize=(8,6))\n",
        "    stats.probplot(X_new1[i], plot=pylab, dist=\"norm\")\n",
        "    pylab.show()\n",
        "    print(i,X_new1[i].skew(),X_new1[i].kurt())"
      ]
    },
    {
      "cell_type": "code",
      "metadata": {
        "id": "CSUCQzc5vb7t",
        "outputId": "7188bfb6-afd0-4a33-c4ba-b496e05b2216"
      },
      "source": [
        "for i in r:\n",
        "    X_new1[i] = np.sqrt(X_new1[i])\n",
        "    test1[i] = np.sqrt(test1[i]) "
      ],
      "execution_count": null,
      "outputs": [
        {
          "output_type": "stream",
          "text": [
            "C:\\Users\\Balaji\\anaconda3\\lib\\site-packages\\ipykernel_launcher.py:3: SettingWithCopyWarning: \n",
            "A value is trying to be set on a copy of a slice from a DataFrame.\n",
            "Try using .loc[row_indexer,col_indexer] = value instead\n",
            "\n",
            "See the caveats in the documentation: https://pandas.pydata.org/pandas-docs/stable/user_guide/indexing.html#returning-a-view-versus-a-copy\n",
            "  This is separate from the ipykernel package so we can avoid doing imports until\n"
          ],
          "name": "stderr"
        }
      ]
    },
    {
      "cell_type": "code",
      "metadata": {
        "id": "syvwSjqGvb7t",
        "outputId": "dfefd73c-073c-4116-aa7b-6f8c5a75ba36"
      },
      "source": [
        "s = ['condition','issue_date_Month','listing_date_Quarter',\n",
        "     'issue_date_Quarter','listing_date_Month']\n",
        "\n",
        "# It shows how many different categories av certain feature have \n",
        "# ww = []\n",
        "# for i in s:\n",
        "#     ww.append(X_new1[i].value_counts().count())\n",
        "# print(ww) \n",
        "    \n",
        "df = pd.concat([X_new1,test1], axis= 0)\n",
        "for i in s:\n",
        "    dummy = pd.get_dummies(df[i], drop_first=True, prefix = i)\n",
        "    df = pd.concat([df,dummy], axis= 1)\n",
        "    df.drop([i], inplace=True, axis= 1)\n",
        "\n",
        "X_new1 = df[:18832]\n",
        "test1 = df[18832:]\n",
        "test1.drop(['pet_category'], axis=1, inplace=True)"
      ],
      "execution_count": null,
      "outputs": [
        {
          "output_type": "stream",
          "text": [
            "C:\\Users\\Balaji\\anaconda3\\lib\\site-packages\\pandas\\core\\frame.py:3997: SettingWithCopyWarning: \n",
            "A value is trying to be set on a copy of a slice from a DataFrame\n",
            "\n",
            "See the caveats in the documentation: https://pandas.pydata.org/pandas-docs/stable/user_guide/indexing.html#returning-a-view-versus-a-copy\n",
            "  errors=errors,\n"
          ],
          "name": "stderr"
        }
      ]
    },
    {
      "cell_type": "code",
      "metadata": {
        "id": "mwNLAggavb7u",
        "outputId": "5cb0b6fb-ff1b-4bd7-938d-9477d9a8d55c"
      },
      "source": [
        "X_train1, X_test1, y_train1, y_test1 = train_test_split(X1, y1, stratify = y1, test_size=0.25, random_state=42)\n",
        "\n",
        "# Using Robust scalar for bringing robustness to outliers\n",
        "rs_X = RobustScaler()\n",
        "X2_train1 = rs_X.fit_transform(X_train1)\n",
        "X2_test1 = rs_X.fit_transform(X_test1)\n",
        "test1 = rs_X.fit_transform(test1)"
      ],
      "execution_count": null,
      "outputs": [
        {
          "output_type": "stream",
          "text": [
            "C:\\Users\\Balaji\\anaconda3\\lib\\site-packages\\numpy\\lib\\nanfunctions.py:995: RuntimeWarning: All-NaN slice encountered\n",
            "  result = np.apply_along_axis(_nanmedian1d, axis, a, overwrite_input)\n",
            "C:\\Users\\Balaji\\anaconda3\\lib\\site-packages\\numpy\\lib\\nanfunctions.py:1372: RuntimeWarning: All-NaN slice encountered\n",
            "  overwrite_input=overwrite_input, interpolation=interpolation\n"
          ],
          "name": "stderr"
        }
      ]
    },
    {
      "cell_type": "code",
      "metadata": {
        "id": "e9otXUllvb7u"
      },
      "source": [
        "# # Oversampling with SMOTETomek\n",
        "# from imblearn.combine import SMOTETomek\n",
        "# smt = SMOTETomek(sampling_strategy = 'minority', random_state=42)\n",
        "# X_res, y_res = smt.fit_resample(X1, y1)"
      ],
      "execution_count": null,
      "outputs": []
    },
    {
      "cell_type": "code",
      "metadata": {
        "id": "hcA7GFeUvb7v"
      },
      "source": [
        "# Using Stratified KFold for cross validation for pet_category\n",
        "skf = StratifiedKFold(n_splits=10, random_state=42, shuffle=True)\n",
        "def cv_f1_w(model):\n",
        "    f1_w = cross_val_score(model, X_train1, y_train1.values.ravel(), scoring=\"f1_weighted\", \n",
        "                           cv=skf, n_jobs=-1, verbose = True)\n",
        "    return (f1_w)"
      ],
      "execution_count": null,
      "outputs": []
    },
    {
      "cell_type": "code",
      "metadata": {
        "id": "Qjqgfw4Fvb7v",
        "outputId": "e8a5a28b-a307-49f9-a5f5-913b95267546"
      },
      "source": [
        "ss = ExtraTreesClassifier()\n",
        "print(cv_f1_w(ss).mean())\n",
        "ss.fit(X2_train1, y_train1)\n",
        "# feats = pd.Series(ss.feature_importances_ * 100)\n",
        "ss_pred = ss.predict(X2_test1)\n",
        "print('ExtraTreesClassifier Performance:')\n",
        "print('f1_score:', metrics.f1_score(y_test1, ss_pred, average='weighted'))\n",
        "print(classification_report(y_test1,ss_pred))\n",
        "print(confusion_matrix(y_test1, ss_pred))\n",
        "#fig = plt.figure(figsize=(10,8))\n",
        "#sns.heatmap(confusion_matrix(y_test1, ss_pred),annot = True,cmap='BrBG')\n",
        "#plt.show()"
      ],
      "execution_count": null,
      "outputs": [
        {
          "output_type": "stream",
          "text": [
            "[Parallel(n_jobs=-1)]: Using backend LokyBackend with 4 concurrent workers.\n",
            "[Parallel(n_jobs=-1)]: Done  10 out of  10 | elapsed:   17.2s finished\n"
          ],
          "name": "stderr"
        },
        {
          "output_type": "stream",
          "text": [
            "0.8998387541525978\n",
            "ExtraTreesClassifier Performance:\n",
            "f1_score: 0.9065621115028447\n",
            "              precision    recall  f1-score   support\n",
            "\n",
            "           0       1.00      0.32      0.48        22\n",
            "           1       0.94      0.84      0.89      1796\n",
            "           2       0.89      0.97      0.93      2655\n",
            "           4       0.91      0.83      0.86       235\n",
            "\n",
            "    accuracy                           0.91      4708\n",
            "   macro avg       0.93      0.74      0.79      4708\n",
            "weighted avg       0.91      0.91      0.91      4708\n",
            "\n",
            "[[   7    0    5   10]\n",
            " [   0 1507  281    8]\n",
            " [   0   85 2568    2]\n",
            " [   0   11   30  194]]\n"
          ],
          "name": "stdout"
        }
      ]
    },
    {
      "cell_type": "code",
      "metadata": {
        "id": "PWKMSDwZvb7v",
        "outputId": "0ea3e7f5-9ce2-40c4-f2d9-99e372c33f7c"
      },
      "source": [
        "nb = GaussianNB()\n",
        "print(cv_f1_w(nb).mean())\n",
        "nb.fit(X2_train1,y_train1)\n",
        "nb_pred = nb.predict(X2_test1)\n",
        "print('GaussianNB Performance:')\n",
        "print('f1_score:', metrics.f1_score(y_test1, nb_pred, average='weighted'))\n",
        "print(classification_report(y_test1,nb_pred))\n",
        "print(confusion_matrix(y_test1, nb_pred))\n",
        "#fig = plt.figure(figsize=(10,8))\n",
        "#sns.heatmap(confusion_matrix(y_test1, nb_pred),annot = True,cmap='BrBG')\n",
        "#plt.show()"
      ],
      "execution_count": null,
      "outputs": [
        {
          "output_type": "stream",
          "text": [
            "[Parallel(n_jobs=-1)]: Using backend LokyBackend with 4 concurrent workers.\n"
          ],
          "name": "stderr"
        },
        {
          "output_type": "stream",
          "text": [
            "0.7804400895015535\n",
            "GaussianNB Performance:\n",
            "f1_score: 0.16386248246687735\n",
            "              precision    recall  f1-score   support\n",
            "\n",
            "           0       0.01      0.82      0.01        22\n",
            "           1       0.79      0.05      0.09      1796\n",
            "           2       0.85      0.13      0.22      2655\n",
            "           4       0.05      0.28      0.09       235\n",
            "\n",
            "    accuracy                           0.11      4708\n",
            "   macro avg       0.43      0.32      0.10      4708\n",
            "weighted avg       0.78      0.11      0.16      4708\n",
            "\n",
            "[[  18    0    1    3]\n",
            " [1222   81   61  432]\n",
            " [1563   18  344  730]\n",
            " [ 166    3    0   66]]\n"
          ],
          "name": "stdout"
        },
        {
          "output_type": "stream",
          "text": [
            "[Parallel(n_jobs=-1)]: Done  10 out of  10 | elapsed:    0.5s finished\n"
          ],
          "name": "stderr"
        }
      ]
    },
    {
      "cell_type": "code",
      "metadata": {
        "id": "_sdFgO8uvb7w",
        "outputId": "fa39d40d-3d78-452c-d9ae-004976683bdc"
      },
      "source": [
        "mlp = MLPClassifier()\n",
        "print(cv_f1_w(mlp).mean())\n",
        "mlp.fit(X2_train1,y_train1)\n",
        "mlp_pred = mlp.predict(X2_test1)\n",
        "print('MLPClassifier Performance:')\n",
        "print('f1_score:', metrics.f1_score(y_test1, mlp_pred, average='weighted'))\n",
        "print(classification_report(y_test1,mlp_pred))\n",
        "print(confusion_matrix(y_test1, mlp_pred))\n",
        "#fig = plt.figure(figsize=(10,8))\n",
        "#sns.heatmap(confusion_matrix(y_test1, mlp_pred),annot = True,cmap='BrBG')\n",
        "#plt.show()"
      ],
      "execution_count": null,
      "outputs": [
        {
          "output_type": "stream",
          "text": [
            "[Parallel(n_jobs=-1)]: Using backend LokyBackend with 4 concurrent workers.\n",
            "[Parallel(n_jobs=-1)]: Done  10 out of  10 | elapsed:   34.1s finished\n"
          ],
          "name": "stderr"
        },
        {
          "output_type": "stream",
          "text": [
            "0.7187200799966382\n",
            "MLPClassifier Performance:\n",
            "f1_score: 0.7469540447903784\n",
            "              precision    recall  f1-score   support\n",
            "\n",
            "           0       0.29      0.32      0.30        22\n",
            "           1       0.66      0.88      0.76      1796\n",
            "           2       0.89      0.67      0.76      2655\n",
            "           4       0.49      0.66      0.56       235\n",
            "\n",
            "    accuracy                           0.74      4708\n",
            "   macro avg       0.58      0.63      0.60      4708\n",
            "weighted avg       0.78      0.74      0.75      4708\n",
            "\n",
            "[[   7    5    5    5]\n",
            " [   2 1578  194   22]\n",
            " [   2  753 1767  133]\n",
            " [  13   42   25  155]]\n"
          ],
          "name": "stdout"
        },
        {
          "output_type": "stream",
          "text": [
            "C:\\Users\\Balaji\\anaconda3\\lib\\site-packages\\sklearn\\neural_network\\_multilayer_perceptron.py:585: ConvergenceWarning: Stochastic Optimizer: Maximum iterations (200) reached and the optimization hasn't converged yet.\n",
            "  % self.max_iter, ConvergenceWarning)\n"
          ],
          "name": "stderr"
        }
      ]
    },
    {
      "cell_type": "code",
      "metadata": {
        "id": "3n874IcEvb7w",
        "outputId": "fc3f6255-8e0a-4fb9-be9c-c1c3c26f86e5"
      },
      "source": [
        "lm1 = LogisticRegression(C=10000000.0, penalty='none', solver='saga')\n",
        "print(cv_f1_w(lm1).mean())\n",
        "lm1.fit(X2_train1,y_train1)\n",
        "lm1_pred = lm1.predict(X2_test1)\n",
        "print('Logistic Regression Performance:')\n",
        "print('f1_score:', metrics.f1_score(y_test1, lm1_pred, average='weighted'))\n",
        "print(classification_report(y_test1,lm1_pred))\n",
        "print(confusion_matrix(y_test1, lm1_pred))\n",
        "#fig = plt.figure(figsize=(10,8))\n",
        "#sns.heatmap(confusion_matrix(y_test1, lm1_pred),annot = True,cmap='BrBG')\n",
        "#plt.show()\n",
        "\n",
        "\n",
        "# For Hyperparameters tuning:\n",
        "# param_grid = {'penalty' : ['l1', 'l2', 'elasticnet', 'none'],\n",
        "#     'C' : 10.0**np.arange(-6,8), \n",
        "#     'solver' : ['newton-cg', 'lbfgs', 'liblinear', 'sag', 'saga']}\n",
        "# clf = GridSearchCV(estimator = LogisticRegression(), param_grid = param_grid, refit = True,\n",
        "#                     cv = 5, verbose=True, n_jobs=-1, scoring = 'f1_weighted')\n",
        "# clf.fit(X2_train,y_train)\n",
        "# print(clf.best_params_)\n",
        "# print(clf.best_estimator_)"
      ],
      "execution_count": null,
      "outputs": [
        {
          "output_type": "stream",
          "text": [
            "[Parallel(n_jobs=-1)]: Using backend LokyBackend with 4 concurrent workers.\n",
            "[Parallel(n_jobs=-1)]: Done  10 out of  10 | elapsed:   18.5s finished\n",
            "C:\\Users\\Balaji\\anaconda3\\lib\\site-packages\\sklearn\\linear_model\\_logistic.py:1321: UserWarning: Setting penalty='none' will ignore the C and l1_ratio parameters\n",
            "  \"Setting penalty='none' will ignore the C and l1_ratio \"\n"
          ],
          "name": "stderr"
        },
        {
          "output_type": "stream",
          "text": [
            "0.6204349839710921\n",
            "Logistic Regression Performance:\n",
            "f1_score: 0.7237484949728894\n",
            "              precision    recall  f1-score   support\n",
            "\n",
            "           0       0.75      0.14      0.23        22\n",
            "           1       0.89      0.62      0.73      1796\n",
            "           2       0.86      0.69      0.77      2655\n",
            "           4       0.15      0.86      0.26       235\n",
            "\n",
            "    accuracy                           0.67      4708\n",
            "   macro avg       0.66      0.58      0.50      4708\n",
            "weighted avg       0.83      0.67      0.72      4708\n",
            "\n",
            "[[   3    3    6   10]\n",
            " [   0 1109  271  416]\n",
            " [   0  129 1833  693]\n",
            " [   1    9   22  203]]\n"
          ],
          "name": "stdout"
        },
        {
          "output_type": "stream",
          "text": [
            "C:\\Users\\Balaji\\anaconda3\\lib\\site-packages\\sklearn\\linear_model\\_sag.py:330: ConvergenceWarning: The max_iter was reached which means the coef_ did not converge\n",
            "  \"the coef_ did not converge\", ConvergenceWarning)\n"
          ],
          "name": "stderr"
        }
      ]
    },
    {
      "cell_type": "code",
      "metadata": {
        "id": "8wiYKlfYvb7w",
        "outputId": "5cafde97-079f-468c-892e-eb590e1f974d"
      },
      "source": [
        "DT = DecisionTreeClassifier()\n",
        "print(cv_f1_w(DT).mean())\n",
        "DT.fit(X2_train1, y_train1)\n",
        "DT_pred = DT.predict(X2_test1)\n",
        "print('DecisionTreeClassifier Performance:')\n",
        "print('f1_score:', metrics.f1_score(y_test1, DT_pred, average='weighted'))\n",
        "print(classification_report(y_test1,DT_pred))\n",
        "print(confusion_matrix(y_test1, DT_pred))\n",
        "#fig = plt.figure(figsize=(10,8))\n",
        "#sns.heatmap(confusion_matrix(y_test1, DT_pred),annot = True,cmap='BrBG')\n",
        "#plt.show()"
      ],
      "execution_count": null,
      "outputs": [
        {
          "output_type": "stream",
          "text": [
            "[Parallel(n_jobs=-1)]: Using backend LokyBackend with 4 concurrent workers.\n",
            "[Parallel(n_jobs=-1)]: Done  10 out of  10 | elapsed:    1.5s finished\n"
          ],
          "name": "stderr"
        },
        {
          "output_type": "stream",
          "text": [
            "0.852318724401371\n",
            "DecisionTreeClassifier Performance:\n",
            "f1_score: 0.8555567566442455\n",
            "              precision    recall  f1-score   support\n",
            "\n",
            "           0       0.52      0.59      0.55        22\n",
            "           1       0.83      0.84      0.84      1796\n",
            "           2       0.89      0.87      0.88      2655\n",
            "           4       0.74      0.80      0.77       235\n",
            "\n",
            "    accuracy                           0.86      4708\n",
            "   macro avg       0.74      0.78      0.76      4708\n",
            "weighted avg       0.86      0.86      0.86      4708\n",
            "\n",
            "[[  13    1    4    4]\n",
            " [   1 1510  267   18]\n",
            " [   3  293 2315   44]\n",
            " [   8   12   27  188]]\n"
          ],
          "name": "stdout"
        }
      ]
    },
    {
      "cell_type": "code",
      "metadata": {
        "id": "zcis-mjlvb7x",
        "outputId": "8e90fb1a-a367-497b-891d-bcb420d14ff4"
      },
      "source": [
        "ada = AdaBoostClassifier()\n",
        "print(cv_f1_w(ada).mean())\n",
        "ada.fit(X2_train1, y_train1)\n",
        "ada_pred = ada.predict(X2_test1)\n",
        "print('AdaBoostClassifier Performance:')\n",
        "print('f1_score:', metrics.f1_score(y_test1, ada_pred, average='weighted'))\n",
        "print(classification_report(y_test1,ada_pred))\n",
        "print(confusion_matrix(y_test1, ada_pred))\n",
        "#fig = plt.figure(figsize=(10,8))\n",
        "#sns.heatmap(confusion_matrix(y_test1, ada_pred),annot = True,cmap='BrBG')\n",
        "#plt.show()"
      ],
      "execution_count": null,
      "outputs": [
        {
          "output_type": "stream",
          "text": [
            "[Parallel(n_jobs=-1)]: Using backend LokyBackend with 4 concurrent workers.\n",
            "[Parallel(n_jobs=-1)]: Done  10 out of  10 | elapsed:   17.5s finished\n"
          ],
          "name": "stderr"
        },
        {
          "output_type": "stream",
          "text": [
            "0.8647759133024243\n",
            "AdaBoostClassifier Performance:\n",
            "f1_score: 0.866986619911775\n",
            "              precision    recall  f1-score   support\n",
            "\n",
            "           0       0.29      0.41      0.34        22\n",
            "           1       0.95      0.73      0.83      1796\n",
            "           2       0.84      0.98      0.90      2655\n",
            "           4       0.89      0.75      0.81       235\n",
            "\n",
            "    accuracy                           0.87      4708\n",
            "   macro avg       0.74      0.72      0.72      4708\n",
            "weighted avg       0.88      0.87      0.87      4708\n",
            "\n",
            "[[   9    0    5    8]\n",
            " [   0 1317  473    6]\n",
            " [   2   52 2594    7]\n",
            " [  20   13   26  176]]\n"
          ],
          "name": "stdout"
        }
      ]
    },
    {
      "cell_type": "code",
      "metadata": {
        "id": "I9tpWnMmvb7x",
        "outputId": "1235e0c5-8ca9-4cff-8b0d-5c59194438a9"
      },
      "source": [
        "rf = RandomForestClassifier(max_features='sqrt', n_estimators=300)\n",
        "print(cv_f1_w(rf).mean())\n",
        "rf.fit(X2_train1,y_train1)\n",
        "rf_pred = rf.predict(X2_test1)\n",
        "print('RandomForestClassifier Performance:')\n",
        "print('f1_score:', metrics.f1_score(y_test1, rf_pred, average='weighted'))\n",
        "print(classification_report(y_test1,rf_pred))\n",
        "print(confusion_matrix(y_test1, rf_pred))\n",
        "#fig = plt.figure(figsize=(10,8))\n",
        "#sns.heatmap(confusion_matrix(y_test1, rf_pred),annot = True,cmap='BrBG')\n",
        "#plt.show()\n",
        "\n",
        "\n",
        "# For Hyperparameters tuning:\n",
        "# rf_param_grid = {'max_features': ['sqrt', 'auto','log2'],\n",
        "#               'min_samples_leaf': [1, 3, 5, 8],\n",
        "#               'n_estimators': [100, 300, 500, 800, 1500]}\n",
        "# rf_grid = GridSearchCV(estimator= RandomForestClassifier(), param_grid = rf_param_grid, refit = True\n",
        "#                         ,scoring='f1_weighted' , n_jobs=-1, verbose=True, cv = 5)\n",
        "# rf_grid.fit(X2_train,y_train)\n",
        "# print(rf_grid.best_params_)\n",
        "# print(rf_grid.best_estimator_)"
      ],
      "execution_count": null,
      "outputs": [
        {
          "output_type": "stream",
          "text": [
            "[Parallel(n_jobs=-1)]: Using backend LokyBackend with 4 concurrent workers.\n",
            "[Parallel(n_jobs=-1)]: Done  10 out of  10 | elapsed:   42.3s finished\n"
          ],
          "name": "stderr"
        },
        {
          "output_type": "stream",
          "text": [
            "0.9015883844335871\n",
            "RandomForestClassifier Performance:\n",
            "f1_score: 0.907287351227775\n",
            "              precision    recall  f1-score   support\n",
            "\n",
            "           0       1.00      0.23      0.37        22\n",
            "           1       0.93      0.85      0.89      1796\n",
            "           2       0.89      0.96      0.93      2655\n",
            "           4       0.93      0.82      0.87       235\n",
            "\n",
            "    accuracy                           0.91      4708\n",
            "   macro avg       0.94      0.72      0.76      4708\n",
            "weighted avg       0.91      0.91      0.91      4708\n",
            "\n",
            "[[   5    2    6    9]\n",
            " [   0 1526  266    4]\n",
            " [   0   97 2556    2]\n",
            " [   0   10   32  193]]\n"
          ],
          "name": "stdout"
        }
      ]
    },
    {
      "cell_type": "code",
      "metadata": {
        "id": "sluFgXRzvb7x",
        "outputId": "71ad60fc-43cf-40fc-f46b-44003fb48745"
      },
      "source": [
        "svr = SVC(probability = False, C=10, gamma=0.01)\n",
        "print(cv_f1_w(svr).mean())\n",
        "svr.fit(X2_train1,y_train1)\n",
        "svr_pred = svr.predict(X2_test1)\n",
        "print('SVC Performance:')\n",
        "print('f1_score:', metrics.f1_score(y_test1, svr_pred, average='weighted'))\n",
        "print(classification_report(y_test1,svr_pred))\n",
        "print(confusion_matrix(y_test1, svr_pred))\n",
        "#fig = plt.figure(figsize=(10,8))\n",
        "#sns.heatmap(confusion_matrix(y_test1, svr_pred),annot = True,cmap='BrBG')\n",
        "#plt.show()\n",
        "\n",
        "\n",
        "# For Hyperparameters tuning:\n",
        "# param_grid = {'C': [1, 10, 25, 80, 100], 'gamma': [0.1, 0.01,0.001,0.0001]}#, 'kernel': ['linear', 'poly', 'rbf', 'sigmoid']}\n",
        "# grid = GridSearchCV(SVC(),param_grid,refit=True,verbose=True,cv=5,n_jobs=-1,scoring='f1_weighted')\n",
        "# grid.fit(X2_train,y_train)\n",
        "# print(grid.best_params_)\n",
        "# print(grid.best_estimator_)"
      ],
      "execution_count": null,
      "outputs": [
        {
          "output_type": "stream",
          "text": [
            "[Parallel(n_jobs=-1)]: Using backend LokyBackend with 4 concurrent workers.\n",
            "[Parallel(n_jobs=-1)]: Done  10 out of  10 | elapsed: 16.1min finished\n"
          ],
          "name": "stderr"
        },
        {
          "output_type": "stream",
          "text": [
            "0.4117937962956276\n",
            "SVC Performance:\n",
            "f1_score: 0.7556543000553723\n",
            "              precision    recall  f1-score   support\n",
            "\n",
            "           0       0.00      0.00      0.00        22\n",
            "           1       0.64      0.86      0.74      1796\n",
            "           2       0.88      0.70      0.78      2655\n",
            "           4       0.85      0.61      0.71       235\n",
            "\n",
            "    accuracy                           0.76      4708\n",
            "   macro avg       0.59      0.54      0.56      4708\n",
            "weighted avg       0.78      0.76      0.76      4708\n",
            "\n",
            "[[   0    5    6   11]\n",
            " [   0 1545  243    8]\n",
            " [   0  781 1867    7]\n",
            " [   0   75   17  143]]\n"
          ],
          "name": "stdout"
        },
        {
          "output_type": "stream",
          "text": [
            "C:\\Users\\Balaji\\anaconda3\\lib\\site-packages\\sklearn\\metrics\\_classification.py:1221: UndefinedMetricWarning: Precision and F-score are ill-defined and being set to 0.0 in labels with no predicted samples. Use `zero_division` parameter to control this behavior.\n",
            "  _warn_prf(average, modifier, msg_start, len(result))\n"
          ],
          "name": "stderr"
        }
      ]
    },
    {
      "cell_type": "code",
      "metadata": {
        "id": "BEuKmcC2vb7y",
        "outputId": "b9fdbccf-fc7d-496e-8bc9-866b41e266d3"
      },
      "source": [
        "xbgc = xgb.XGBClassifier()\n",
        "print(cv_f1_w(xbgc).mean())\n",
        "xbgc.fit(X2_train1,y_train1)\n",
        "xbgc_pred = xbgc.predict(X2_test1)\n",
        "print('XGB Performance:')\n",
        "print('f1_score:', metrics.f1_score(y_test1, xbgc_pred, average='weighted'))\n",
        "print(classification_report(y_test1,xbgc_pred))\n",
        "print(confusion_matrix(y_test1, xbgc_pred))\n",
        "#fig = plt.figure(figsize=(10,8))\n",
        "#sns.heatmap(confusion_matrix(y_test1, xbgc_pred),annot = True,cmap='BrBG')\n",
        "#plt.show()\n",
        "\n",
        "\n",
        "# For Hyperparameters tuning:\n",
        "# params = {\"learning_rate\"    : [  0.1, 0.01,  0.001],\n",
        "#   \"max_depth\"        : [  3, 5, 8],\n",
        "#   \"min_child_weight\" : [  3, 5, 8 ],\n",
        "#   \"colsample_bytree\" : [ 0.1, 0.3, 0.5],\n",
        "#   'n_estimators': [ 100, 300, 500, 800, 1500]}\n",
        "# xgb_tuning = GridSearchCV(estimator = xgb.XGBClassifier(random_state=1996),\n",
        "#                           param_grid = params, refit = True\n",
        "#                           n_jobs=-1, scoring = 'f1_weighted',\n",
        "#                           cv=5, verbose=True)\n",
        "# xgb_tuning.fit(X2_train,y_train)\n",
        "# print(xgb_tuning.best_params_)\n",
        "# print(xgb_tuning.best_estimator_)\n",
        "# (Not performed here because of computational and time issue)"
      ],
      "execution_count": null,
      "outputs": [
        {
          "output_type": "stream",
          "text": [
            "[Parallel(n_jobs=-1)]: Using backend LokyBackend with 4 concurrent workers.\n",
            "[Parallel(n_jobs=-1)]: Done  10 out of  10 | elapsed:  1.9min finished\n"
          ],
          "name": "stderr"
        },
        {
          "output_type": "stream",
          "text": [
            "0.9008196003989589\n",
            "XGB Performance:\n",
            "f1_score: 0.9047652823742489\n",
            "              precision    recall  f1-score   support\n",
            "\n",
            "           0       1.00      0.45      0.62        22\n",
            "           1       0.92      0.86      0.89      1796\n",
            "           2       0.90      0.95      0.92      2655\n",
            "           4       0.94      0.83      0.88       235\n",
            "\n",
            "    accuracy                           0.91      4708\n",
            "   macro avg       0.94      0.77      0.83      4708\n",
            "weighted avg       0.91      0.91      0.90      4708\n",
            "\n",
            "[[  10    1    4    7]\n",
            " [   0 1541  253    2]\n",
            " [   0  134 2518    3]\n",
            " [   0    7   33  195]]\n"
          ],
          "name": "stdout"
        }
      ]
    },
    {
      "cell_type": "code",
      "metadata": {
        "scrolled": true,
        "id": "n_JopYVfvb7y",
        "outputId": "1fa9a62f-7494-4962-f234-5d32b3fe5a49"
      },
      "source": [
        "gbm1 = GradientBoostingClassifier(random_state=42)\n",
        "print(cv_f1_w(gbm1).mean())\n",
        "gbm1.fit(X2_train1, y_train1)\n",
        "gbm1_pred = gbm1.predict(X2_test1)\n",
        "print('Gradiant Boosting Performance:')\n",
        "print('f1_score:', metrics.f1_score(y_test1, gbm1_pred, average='weighted'))\n",
        "print(classification_report(y_test1,gbm1_pred))\n",
        "print(confusion_matrix(y_test1, gbm1_pred))\n",
        "#fig = plt.figure(figsize=(10,8))\n",
        "#sns.heatmap(confusion_matrix(y_test1, gbm1_pred),annot = True,cmap='BrBG')\n",
        "#plt.show()\n",
        "\n",
        "\n",
        "# For Hyperparameters tuning:\n",
        "# gbm_param_grid = {'learning_rate':[0.1, 0.01, 0.001], \n",
        "#             'n_estimators':[100, 300, 500, 1000],\n",
        "#           'max_depth':[3, 5, 8],\n",
        "#           'min_samples_split':[10, 20],\n",
        "#           'max_features':[4, 7]}\n",
        "# gbm_tuning = GridSearchCV(estimator =GradientBoostingClassifier(random_state=1996),\n",
        "#                           param_grid = gbm_param_grid, verbose = True,\n",
        "#                           n_jobs=-1, scoring='f1_weighted',\n",
        "#                           cv=3, refit = True)\n",
        "# gbm_tuning.fit(X_train,y_train)\n",
        "# print(gbm_tuning.best_params_)\n",
        "# print(gbm_tuning.best_estimator_)\n",
        "# (Not performed here because of computational and time issue)"
      ],
      "execution_count": null,
      "outputs": [
        {
          "output_type": "stream",
          "text": [
            "[Parallel(n_jobs=-1)]: Using backend LokyBackend with 4 concurrent workers.\n",
            "[Parallel(n_jobs=-1)]: Done  10 out of  10 | elapsed:  1.8min finished\n"
          ],
          "name": "stderr"
        },
        {
          "output_type": "stream",
          "text": [
            "0.901246328286861\n",
            "Gradiant Boosting Performance:\n",
            "f1_score: 0.9000784092416639\n",
            "              precision    recall  f1-score   support\n",
            "\n",
            "           0       0.80      0.36      0.50        22\n",
            "           1       0.91      0.85      0.88      1796\n",
            "           2       0.89      0.95      0.92      2655\n",
            "           4       0.92      0.83      0.88       235\n",
            "\n",
            "    accuracy                           0.90      4708\n",
            "   macro avg       0.88      0.75      0.79      4708\n",
            "weighted avg       0.90      0.90      0.90      4708\n",
            "\n",
            "[[   8    1    6    7]\n",
            " [   0 1526  266    4]\n",
            " [   0  137 2513    5]\n",
            " [   2   10   27  196]]\n"
          ],
          "name": "stdout"
        }
      ]
    },
    {
      "cell_type": "raw",
      "metadata": {
        "id": "Cux0-Sonvb7z"
      },
      "source": [
        "# For finding 'n_neighbors' parameter between 1 to 100\n",
        "E = []\n",
        "for i in range(1,101):\n",
        "    knn = KNeighborsClassifier(n_neighbors=i,weights = 'distance')\n",
        "    knn.fit(X_train1, y_train1)\n",
        "    knn_preds = knn.predict(X_test1)\n",
        "    E.append(metrics.f1_score(y_test1, knn_preds, average='weighted'))\n",
        "\n",
        "fig = plt.figure(figsize=(10,8))    \n",
        "plt.plot(range(1,101), E, ls = '--',lw = 2 , markersize = 4, marker = 'o', markerfacecolor = 'red',color = 'blue')\n",
        "plt.grid()"
      ]
    },
    {
      "cell_type": "code",
      "metadata": {
        "id": "gxwtq2bOvb7z",
        "outputId": "96a0c4e1-a1a7-4b6f-843d-26e5b7ccb1fc"
      },
      "source": [
        "knn = KNeighborsClassifier(n_neighbors=50 ,weights = 'distance')\n",
        "print(cv_f1_w(knn).mean())\n",
        "knn.fit(X2_train1, y_train1)\n",
        "knn_pred = knn.predict(X2_test1)\n",
        "print('KNeighborsClassifier Performance:')\n",
        "print('f1_score:', metrics.f1_score(y_test1, knn_pred, average='weighted'))\n",
        "print(classification_report(y_test1,knn_pred))\n",
        "print(confusion_matrix(y_test1, knn_pred))\n",
        "#fig = plt.figure(figsize=(10,8))\n",
        "#sns.heatmap(confusion_matrix(y_test, knn_pred),annot = True,cmap='BrBG')\n",
        "#plt.show()"
      ],
      "execution_count": null,
      "outputs": [
        {
          "output_type": "stream",
          "text": [
            "[Parallel(n_jobs=-1)]: Using backend LokyBackend with 4 concurrent workers.\n",
            "[Parallel(n_jobs=-1)]: Done  10 out of  10 | elapsed:    2.5s finished\n"
          ],
          "name": "stderr"
        },
        {
          "output_type": "stream",
          "text": [
            "0.57112131793604\n",
            "KNeighborsClassifier Performance:\n",
            "f1_score: 0.8184362560522749\n",
            "              precision    recall  f1-score   support\n",
            "\n",
            "           0       0.00      0.00      0.00        22\n",
            "           1       0.92      0.67      0.77      1796\n",
            "           2       0.79      0.98      0.87      2655\n",
            "           4       0.91      0.46      0.61       235\n",
            "\n",
            "    accuracy                           0.83      4708\n",
            "   macro avg       0.65      0.53      0.56      4708\n",
            "weighted avg       0.84      0.83      0.82      4708\n",
            "\n",
            "[[   0    2   11    9]\n",
            " [   0 1204  591    1]\n",
            " [   0   64 2590    1]\n",
            " [   0   44   83  108]]\n"
          ],
          "name": "stdout"
        },
        {
          "output_type": "stream",
          "text": [
            "C:\\Users\\Balaji\\anaconda3\\lib\\site-packages\\sklearn\\metrics\\_classification.py:1221: UndefinedMetricWarning: Precision and F-score are ill-defined and being set to 0.0 in labels with no predicted samples. Use `zero_division` parameter to control this behavior.\n",
            "  _warn_prf(average, modifier, msg_start, len(result))\n"
          ],
          "name": "stderr"
        }
      ]
    },
    {
      "cell_type": "code",
      "metadata": {
        "id": "xNUiD4fevb7z",
        "outputId": "e145a0e6-01fd-4428-aedb-46a7d4e84f74"
      },
      "source": [
        "print('\\nwith non-scaled features:')\n",
        "bgc = BaggingClassifier()\n",
        "print(cv_f1_w(bgc).mean())\n",
        "bgc.fit(X2_train1, y_train1)\n",
        "bgc_pred = bgc.predict(X2_test1)\n",
        "print('BaggingClassifier Performance:')\n",
        "print('f1_score:', metrics.f1_score(y_test1, bgc_pred, average='weighted'))\n",
        "print(classification_report(y_test1,bgc_pred))\n",
        "print(confusion_matrix(y_test1, bgc_pred))\n",
        "#fig = plt.figure(figsize=(10,8))\n",
        "#sns.heatmap(confusion_matrix(y_test1, bgc_pred),annot = True,cmap='BrBG')\n",
        "#plt.show()"
      ],
      "execution_count": null,
      "outputs": [
        {
          "output_type": "stream",
          "text": [
            "\n",
            "with non-scaled features:\n"
          ],
          "name": "stdout"
        },
        {
          "output_type": "stream",
          "text": [
            "[Parallel(n_jobs=-1)]: Using backend LokyBackend with 4 concurrent workers.\n",
            "[Parallel(n_jobs=-1)]: Done  10 out of  10 | elapsed:    8.9s finished\n"
          ],
          "name": "stderr"
        },
        {
          "output_type": "stream",
          "text": [
            "0.8864513064337205\n",
            "BaggingClassifier Performance:\n",
            "f1_score: 0.8884893052754891\n",
            "              precision    recall  f1-score   support\n",
            "\n",
            "           0       0.75      0.41      0.53        22\n",
            "           1       0.87      0.86      0.87      1796\n",
            "           2       0.90      0.92      0.91      2655\n",
            "           4       0.90      0.80      0.85       235\n",
            "\n",
            "    accuracy                           0.89      4708\n",
            "   macro avg       0.86      0.75      0.79      4708\n",
            "weighted avg       0.89      0.89      0.89      4708\n",
            "\n",
            "[[   9    2    5    6]\n",
            " [   0 1552  238    6]\n",
            " [   1  209 2436    9]\n",
            " [   2   15   29  189]]\n"
          ],
          "name": "stdout"
        }
      ]
    },
    {
      "cell_type": "code",
      "metadata": {
        "id": "taE1YvJuvb70",
        "outputId": "d160fe6f-b36e-41c0-ca68-515b82046fe3"
      },
      "source": [
        "lgbc = lgb.LGBMClassifier()\n",
        "print(cv_f1_w(lgbc).mean())\n",
        "lgbc.fit(X2_train1, y_train1)\n",
        "lgbc_pred = lgbc.predict(X2_test1)\n",
        "print('LGBMClassifier Performance:')\n",
        "print('f1_score:', metrics.f1_score(y_test1, lgbc_pred, average='weighted'))\n",
        "print(classification_report(y_test1,lgbc_pred))\n",
        "print(confusion_matrix(y_test1, lgbc_pred))\n",
        "#fig = plt.figure(figsize=(10,8))\n",
        "#sns.heatmap(confusion_matrix(y_test1, lgbc_pred),annot = True,cmap='BrBG')\n",
        "#plt.show()"
      ],
      "execution_count": null,
      "outputs": [
        {
          "output_type": "stream",
          "text": [
            "[Parallel(n_jobs=-1)]: Using backend LokyBackend with 4 concurrent workers.\n",
            "[Parallel(n_jobs=-1)]: Done  10 out of  10 | elapsed:   14.8s finished\n"
          ],
          "name": "stderr"
        },
        {
          "output_type": "stream",
          "text": [
            "0.9036750161696909\n",
            "LGBMClassifier Performance:\n",
            "f1_score: 0.90838924625843\n",
            "              precision    recall  f1-score   support\n",
            "\n",
            "           0       1.00      0.32      0.48        22\n",
            "           1       0.93      0.86      0.89      1796\n",
            "           2       0.90      0.96      0.93      2655\n",
            "           4       0.91      0.84      0.88       235\n",
            "\n",
            "    accuracy                           0.91      4708\n",
            "   macro avg       0.93      0.74      0.79      4708\n",
            "weighted avg       0.91      0.91      0.91      4708\n",
            "\n",
            "[[   7    1    4   10]\n",
            " [   0 1537  257    2]\n",
            " [   0  107 2541    7]\n",
            " [   0    9   28  198]]\n"
          ],
          "name": "stdout"
        }
      ]
    },
    {
      "cell_type": "raw",
      "metadata": {
        "id": "526HWtTVvb70"
      },
      "source": [
        "cbr1 = cb.CatBoostClassifier()\n",
        "print(cv_f1_w(cbr1).mean())\n",
        "cbr1.fit(X2_train1, y_train1)\n",
        "cbr1_pred = cbr1.predict(X2_test1)\n",
        "print('CatBoostClassifier Performance:')\n",
        "print('f1_score:', metrics.f1_score(y_test1, cbr1_pred, average='weighted'))\n",
        "print(classification_report(y_test1,cbr1_pred))\n",
        "print(confusion_matrix(y_test1, cbr1_pred))\n",
        "#fig = plt.figure(figsize=(10,8))\n",
        "#sns.heatmap(confusion_matrix(y_test1, cbr1_pred),annot = True,cmap='BrBG')\n",
        "#plt.show()"
      ]
    },
    {
      "cell_type": "code",
      "metadata": {
        "id": "fU6nWYeyvb71",
        "outputId": "86fad1e6-3575-4026-a6b4-404d7ada3998"
      },
      "source": [
        "# Here I am using voting classifier with 'soft' voting since all the selected models are based on ensemble techniques!!!\n",
        "from sklearn.ensemble import VotingClassifier\n",
        "vclf = VotingClassifier([('xbgc',xbgc),('bgc',bgc),('ss',ss),\n",
        "                         ('rf',rf),('lgbc',lgbc),('gbm1',gbm1)],voting='soft')\n",
        "print(cv_f1_w(vclf).mean())\n",
        "vclf.fit(X2_train1, y_train1)\n",
        "vclf_pred = vclf.predict(X2_test1)\n",
        "vclf_pred_prob = vclf.predict_proba(X2_test1)\n",
        "print('roc_auc_score:', metrics.roc_auc_score(y_test1, vclf_pred_prob, multi_class = 'ovr'))\n",
        "print('VotingClassifier Performance:')\n",
        "print('f1_score:', metrics.f1_score(y_test1, vclf_pred, average = 'weighted'))\n",
        "print('accuracy_score:', metrics.accuracy_score(y_test1, vclf_pred))\n",
        "print(classification_report(y_test1,vclf_pred))\n",
        "print(confusion_matrix(y_test1, vclf_pred))\n",
        "fig = plt.figure(figsize=(10,8))\n",
        "sns.heatmap(confusion_matrix(y_test1, vclf_pred),annot = True,cmap='BrBG')\n",
        "plt.show()"
      ],
      "execution_count": null,
      "outputs": [
        {
          "output_type": "stream",
          "text": [
            "[Parallel(n_jobs=-1)]: Using backend LokyBackend with 4 concurrent workers.\n"
          ],
          "name": "stderr"
        }
      ]
    },
    {
      "cell_type": "markdown",
      "metadata": {
        "id": "afkhrZM1vb71"
      },
      "source": [
        "# 2. breed_category:"
      ]
    },
    {
      "cell_type": "code",
      "metadata": {
        "id": "hsag6ywjvb71"
      },
      "source": [
        "np.random.seed(42)\n",
        "y2 = train['breed_category']\n",
        "X2 = train.drop(['pet_category','breed_category'], axis=1)\n",
        "\n",
        "from sklearn.feature_selection import SelectKBest, f_classif\n",
        "model2 = pd.DataFrame(SelectKBest(f_classif, k=20).fit_transform(X2, y2))"
      ],
      "execution_count": null,
      "outputs": []
    },
    {
      "cell_type": "code",
      "metadata": {
        "id": "F5RDmhPKvb72"
      },
      "source": [
        "features2 = ['condition','X1','X2','issue_date_Year', 'issue_date_Dayofweek', 'issue_date_Is_weekend', \n",
        "             'issue_date_Is_weekday', 'listing_date_Year', 'listing_date_Month', 'listing_date_DayOfyear', \n",
        "             'listing_date_Week_No', 'listing_date_Quarter', 'listing_date_Is_weekend', 'listing_date_Is_weekday',\n",
        "             'diff_month', 'diff_year', 'color_pet_cat', 'color_breed_Cat', 'color_pet_id1', 'color_breed_id2']\n",
        "X_new2 = train[model2]\n",
        "test2 = test[features2]"
      ],
      "execution_count": null,
      "outputs": []
    },
    {
      "cell_type": "code",
      "metadata": {
        "id": "v7j3InVBvb72"
      },
      "source": [
        "r = ['X1', 'X2','issue_date_Year', 'listing_date_Year',\n",
        "      'listing_date_DayOfyear', 'listing_date_Week_No','diff_year']"
      ],
      "execution_count": null,
      "outputs": []
    },
    {
      "cell_type": "raw",
      "metadata": {
        "id": "BAT5q3levb72"
      },
      "source": [
        "for i in r:\n",
        "    plt.figure(figsize=(10,8))\n",
        "    sns.boxplot(X_new2[i])"
      ]
    },
    {
      "cell_type": "raw",
      "metadata": {
        "id": "P6gUzBNFvb72"
      },
      "source": [
        "for i in r:\n",
        "    plt.figure(figsize=(10,8))\n",
        "    sns.distplot(X_new2[i])"
      ]
    },
    {
      "cell_type": "raw",
      "metadata": {
        "id": "OSMhdVyrvb73"
      },
      "source": [
        "for i in r:\n",
        "    plt.figure(figsize=(8,6))\n",
        "    stats.probplot(X_new2[i], plot=pylab, dist=\"norm\")\n",
        "    pylab.show()\n",
        "    print(i,X_new2[i].skew(),X_new2[i].kurt())"
      ]
    },
    {
      "cell_type": "code",
      "metadata": {
        "id": "6O-ZhH41vb73"
      },
      "source": [
        "for i in r:\n",
        "    X_new2[i] = np.sqrt(X_new2[i])\n",
        "    test2[i] = np.sqrt(test2[i]) "
      ],
      "execution_count": null,
      "outputs": []
    },
    {
      "cell_type": "code",
      "metadata": {
        "id": "PxGKEBq_vb73"
      },
      "source": [
        "s = ['condition','issue_date_Dayofweek','issue_date_Is_weekend', 'issue_date_Is_weekday',\n",
        "      'listing_date_Month','listing_date_Quarter', 'listing_date_Is_weekend',\n",
        "      'listing_date_Is_weekday',]\n",
        "\n",
        "# It shows how many different categories av certain feature have \n",
        "ww = []\n",
        "for i in s:\n",
        "    ww.append(X_new2[i].value_counts().count())\n",
        "# print(ww) \n",
        "\n",
        "df = pd.concat([X_new2,test2], axis= 0)\n",
        "for i in s:\n",
        "    dummy = pd.get_dummies(df[i], drop_first=True, prefix = i)\n",
        "    df = pd.concat([df,dummy], axis= 1)\n",
        "    df.drop([i], inplace=True, axis= 1)\n",
        "# # ggdf\n",
        "X_new2 = df[:18832]\n",
        "test2 = df[18832:]\n",
        "test2.drop(['breed_category'], axis=1, inplace=True)"
      ],
      "execution_count": null,
      "outputs": []
    },
    {
      "cell_type": "code",
      "metadata": {
        "id": "LvG8wpa7vb74"
      },
      "source": [
        "X_train2, X_test2, y_train2, y_test2 = train_test_split(X2, y2, stratify = y2, test_size=0.25, random_state=42)\n",
        "\n",
        "# Using Robust scalar for bringing robustness to outliers\n",
        "rs_X = RobustScaler()\n",
        "X2_train2 = rs_X.fit_transform(X_train2)\n",
        "X2_test2 = rs_X.fit_transform(X_test2)\n",
        "test2 = rs_X.fit_transform(test2)"
      ],
      "execution_count": null,
      "outputs": []
    },
    {
      "cell_type": "code",
      "metadata": {
        "id": "tN42COlWvb74"
      },
      "source": [
        "# # Oversampling with SMOTETomek\n",
        "# from imblearn.combine import SMOTETomek\n",
        "# smt = SMOTETomek(sampling_strategy = 'minority', random_state=42)\n",
        "# X_res, y_res = smt.fit_resample(X2, y2)"
      ],
      "execution_count": null,
      "outputs": []
    },
    {
      "cell_type": "code",
      "metadata": {
        "id": "STosWqnXvb74"
      },
      "source": [
        "# Using Stratified KFold for cross validation for breed_category\n",
        "skf = StratifiedKFold(n_splits=10, random_state=42, shuffle=True)\n",
        "def cv_f1_w(model):\n",
        "    f1_w = cross_val_score(model, X_train2, y_train2.values.ravel(), scoring=\"f1_weighted\", \n",
        "                           cv=skf, n_jobs=-1, verbose = True)\n",
        "    return (f1_w)"
      ],
      "execution_count": null,
      "outputs": []
    },
    {
      "cell_type": "code",
      "metadata": {
        "id": "jjhDAZUmvb74"
      },
      "source": [
        ""
      ],
      "execution_count": null,
      "outputs": []
    },
    {
      "cell_type": "code",
      "metadata": {
        "id": "JZk-wFzGvb75"
      },
      "source": [
        "ss2 = ExtraTreesClassifier()\n",
        "print(cv_f1_w(ss2).mean())\n",
        "ss2.fit(X2_train2, y_train2)\n",
        "# imp_features = pd.Series(ss.feature_importances_ * 100)\n",
        "ss_pred = ss2.predict(X2_test2)\n",
        "print('ExtraTreesClassifier Performance:')\n",
        "print('f1_score:', metrics.f1_score(y_test2, ss_pred, average='weighted'))\n",
        "print(classification_report(y_test2,ss_pred))\n",
        "print(confusion_matrix(y_test2, ss_pred))\n",
        "#fig = plt.figure(figsize=(10,8))\n",
        "#sns.heatmap(confusion_matrix(y_test2, ss_pred),annot = True,cmap='BrBG')\n",
        "#plt.show()"
      ],
      "execution_count": null,
      "outputs": []
    },
    {
      "cell_type": "code",
      "metadata": {
        "id": "88rptqTNvb75"
      },
      "source": [
        "ada2 = AdaBoostClassifier()\n",
        "print(cv_f1_w(ada2).mean())\n",
        "ada2.fit(X2_train2, y_train2)\n",
        "ada_pred = ada2.predict(X2_test2)\n",
        "print('AdaBoostClassifier Performance:')\n",
        "print('f1_score:', metrics.f1_score(y_test2, ada_pred, average='weighted'))\n",
        "print(classification_report(y_test2,ada_pred))\n",
        "print(confusion_matrix(y_test2, ada_pred))\n",
        "#fig = plt.figure(figsize=(10,8))\n",
        "#sns.heatmap(confusion_matrix(y_test2, ada_pred),annot = True,cmap='BrBG')\n",
        "#plt.show()"
      ],
      "execution_count": null,
      "outputs": []
    },
    {
      "cell_type": "code",
      "metadata": {
        "id": "24ka9dKqvb75"
      },
      "source": [
        "lm2 = LogisticRegression(random_state=42,penalty='l1', solver='liblinear',C=1)\n",
        "print(cv_f1_w(lm2).mean())\n",
        "lm2.fit(X2_train2,y_train2)\n",
        "lm1_pred = lm2.predict(X2_test2)\n",
        "print('Logistic Regression Performance:')\n",
        "print('f1_score:', metrics.f1_score(y_test2, lm1_pred, average='weighted'))\n",
        "print(classification_report(y_test2,lm1_pred))\n",
        "print(confusion_matrix(y_test2, lm1_pred))\n",
        "#fig = plt.figure(figsize=(10,8))\n",
        "#sns.heatmap(confusion_matrix(y_test2, lm1_pred),annot = True,cmap='BrBG')\n",
        "#plt.show()\n",
        "\n",
        "\n",
        "# For Hyperparameters tuning:\n",
        "# param_grid = {'penalty' : ['l1', 'l2'],\n",
        "#     'C' : 10.0**np.arange(-3,4),\n",
        "#     'solver' : ['liblinear', 'lbfgs']}\n",
        "# clf = GridSearchCV(estimator = LogisticRegression(), param_grid = param_grid, refit = True,\n",
        "#                     cv = 5, verbose=True, n_jobs=-1, scoring = 'f1_weighted')\n",
        "# clf.fit(X_train,y_train)\n",
        "# print(clf.best_params_)\n",
        "# print(clf.best_estimator_)"
      ],
      "execution_count": null,
      "outputs": []
    },
    {
      "cell_type": "code",
      "metadata": {
        "id": "IvPeO5WDvb76"
      },
      "source": [
        "print('with non-scaled features:')\n",
        "nb2 = GaussianNB()\n",
        "print(cv_f1_w(nb2).mean())\n",
        "nb2.fit(X2_train2,y_train2)\n",
        "nb2_pred = nb2.predict(X2_test2)\n",
        "print('GaussianNB Performance:')\n",
        "print('f1_score:', metrics.f1_score(y_test2, nb2_pred, average='weighted'))\n",
        "print(classification_report(y_test2,nb2_pred))\n",
        "print(confusion_matrix(y_test2, nb2_pred))\n",
        "#fig = plt.figure(figsize=(10,8))\n",
        "#sns.heatmap(confusion_matrix(y_test, nb2_pred),annot = True,cmap='BrBG')\n",
        "#plt.show()"
      ],
      "execution_count": null,
      "outputs": []
    },
    {
      "cell_type": "code",
      "metadata": {
        "id": "QTbUVjRQvb76"
      },
      "source": [
        "bgc2 = BaggingClassifier()\n",
        "print(cv_f1_w(bgc2).mean())\n",
        "bgc2.fit(X2_train2, y_train2)\n",
        "bgc2_pred = bgc2.predict(X2_test2)\n",
        "print('BaggingClassifier Performance:')\n",
        "print('f1_score:', metrics.f1_score(y_test2, bgc2_pred, average='weighted'))\n",
        "print(classification_report(y_test2,bgc2_pred))\n",
        "print(confusion_matrix(y_test2, bgc2_pred))\n",
        "#fig = plt.figure(figsize=(10,8))\n",
        "#sns.heatmap(confusion_matrix(y_test2, bgc2_pred),annot = True,cmap='BrBG')\n",
        "#plt.show()"
      ],
      "execution_count": null,
      "outputs": []
    },
    {
      "cell_type": "code",
      "metadata": {
        "id": "ZGISiECMvb76"
      },
      "source": [
        "mlp2 = MLPClassifier(random_state=42)\n",
        "print(cv_f1_w(mlp2).mean())\n",
        "mlp2.fit(X2_train2,y_train2)\n",
        "mlp2_pred = mlp2.predict(X2_test2)\n",
        "print('MLPClassifier Performance:')\n",
        "print('f1_score:', metrics.f1_score(y_test2, mlp2_pred, average='weighted'))\n",
        "print(classification_report(y_test2,mlp2_pred))\n",
        "print(confusion_matrix(y_test2, mlp2_pred))\n",
        "#fig = plt.figure(figsize=(10,8))\n",
        "#sns.heatmap(confusion_matrix(y_test2, mlp2_pred),annot = True,cmap='BrBG')\n",
        "#plt.show()"
      ],
      "execution_count": null,
      "outputs": []
    },
    {
      "cell_type": "code",
      "metadata": {
        "id": "W-BcCtzcvb77"
      },
      "source": [
        "DT2 = DecisionTreeClassifier()\n",
        "print(cv_f1_w(DT2).mean())\n",
        "DT2.fit(X2_train2, y_train2)\n",
        "DT_pred = DT2.predict(X2_test2)\n",
        "print('DecisionTreeClassifier Performance:')\n",
        "print('f1_score:', metrics.f1_score(y_test2, DT_pred, average='weighted'))\n",
        "print(classification_report(y_test2,DT_pred))\n",
        "print(confusion_matrix(y_test2, DT_pred))\n",
        "#fig = plt.figure(figsize=(10,8))\n",
        "#sns.heatmap(confusion_matrix(y_test2, DT_pred),annot = True,cmap='BrBG')\n",
        "#plt.show()"
      ],
      "execution_count": null,
      "outputs": []
    },
    {
      "cell_type": "code",
      "metadata": {
        "id": "ubJYddqXvb77"
      },
      "source": [
        "rf2 = RandomForestClassifier(max_features='sqrt', n_estimators=300)\n",
        "print(cv_f1_w(rf2).mean())\n",
        "rf2.fit(X2_train2,y_train2)\n",
        "rf2_pred = rf2.predict(X2_test2)\n",
        "print('RandomForestClassifier Performance:')\n",
        "print('f1_score:', metrics.f1_score(y_test2, rf2_pred, average='weighted'))\n",
        "print(classification_report(y_test2,rf2_pred))\n",
        "print(confusion_matrix(y_test2, rf2_pred))\n",
        "#fig = plt.figure(figsize=(10,8))\n",
        "#sns.heatmap(confusion_matrix(y_test2, rf2_pred),annot = True,cmap='BrBG')\n",
        "#plt.show()\n",
        "\n",
        "\n",
        "# For Hyperparameters tuning:\n",
        "# rf_param_grid = {'max_features': ['sqrt', 'auto','log2'],\n",
        "#               'min_samples_leaf': [1, 3, 5, 8],\n",
        "#               'n_estimators': [100, 300, 500, 800, 1500]}\n",
        "# rf_grid = GridSearchCV(estimator= RandomForestClassifier(), param_grid = rf_param_grid, refit = True\n",
        "#                        scoring='f1_weighted' , n_jobs=-1, verbose=True, cv = 5)\n",
        "# rf_grid.fit(X2_train,y_train)\n",
        "# print(rf_grid.best_params_)\n",
        "# print(rf_grid.best_estimator_)"
      ],
      "execution_count": null,
      "outputs": []
    },
    {
      "cell_type": "code",
      "metadata": {
        "id": "XCgfGPDKvb77"
      },
      "source": [
        "print('with non-scaled features:')\n",
        "svr2 = SVC(C=10, gamma=0.01, probability=False, kernel = 'rbf',\n",
        "           decision_function_shape=\"ovr\")\n",
        "print(cv_f1_w(svr2).mean())\n",
        "svr2.fit(X2_train2,y_train2)\n",
        "svr_pred = svr2.predict(X2_test2)\n",
        "print('SVC Performance:')\n",
        "print('f1_score:', metrics.f1_score(y_test2, svr_pred, average='weighted'))\n",
        "print(classification_report(y_test2,svr_pred))\n",
        "print(confusion_matrix(y_test2, svr_pred))\n",
        "#fig = plt.figure(figsize=(10,8))\n",
        "#sns.heatmap(confusion_matrix(y_test2, svr_pred),annot = True,cmap='BrBG')\n",
        "#plt.show()\n",
        "\n",
        "\n",
        "# For Hyperparameters tuning:\n",
        "# param_grid = {'C': [1, 10, 25, 80, 100], 'gamma': [0.1, 0.01,0.001,0.0001]}\n",
        "# grid = GridSearchCV(SVC(),param_grid,refit=True,verbose=3,cv=5,n_jobs=-1,scoring='f1_weighted')\n",
        "# grid.fit(X2_train,y_train)\n",
        "# print(grid.best_params_)\n",
        "# print(grid.best_estimator_)"
      ],
      "execution_count": null,
      "outputs": []
    },
    {
      "cell_type": "code",
      "metadata": {
        "id": "q-4Y4sfdvb78"
      },
      "source": [
        "xbgc2 = xgb.XGBClassifier()\n",
        "print(cv_f1_w(xbgc2).mean())\n",
        "xbgc2.fit(X2_train2,y_train2)\n",
        "xbgc2_pred = xbgc2.predict(X2_test2)\n",
        "print('XGB Performance:')\n",
        "print('f1_score:', metrics.f1_score(y_test2, xbgc2_pred, average='weighted'))\n",
        "print(classification_report(y_test2,xbgc2_pred))\n",
        "print(confusion_matrix(y_test2, xbgc2_pred))\n",
        "#fig = plt.figure(figsize=(10,8))\n",
        "#sns.heatmap(confusion_matrix(y_test2, xbgc2_pred),annot = True,cmap='BrBG')\n",
        "#plt.show()\n",
        "\n",
        "\n",
        "# For Hyperparameters tuning:\n",
        "# params = {\"learning_rate\"    : [  0.1, 0.01,  0.001],\n",
        "#   \"max_depth\"        : [  3, 5, 8],\n",
        "#   \"min_child_weight\" : [  3, 5, 8 ],\n",
        "#   \"colsample_bytree\" : [ 0.1, 0.3, 0.5],\n",
        "#   'n_estimators': [ 100, 300, 500, 800, 1500]}\n",
        "# xgb_tuning = GridSearchCV(estimator = xgb.XGBClassifier(random_state=1996),\n",
        "#                           param_grid = params, refit = True\n",
        "#                           n_jobs=-1, scoring = 'f1_weighted',\n",
        "#                           cv=5, verbose=True)\n",
        "# xgb_tuning.fit(X2_train,y_train)\n",
        "# print(xgb_tuning.best_params_)\n",
        "# print(xgb_tuning.best_estimator_)\n",
        "# (Not performed here because of computational and time issue)"
      ],
      "execution_count": null,
      "outputs": []
    },
    {
      "cell_type": "code",
      "metadata": {
        "id": "ZWYzkO5wvb78"
      },
      "source": [
        "gbm2 = GradientBoostingClassifier(random_state=42)\n",
        "print(cv_f1_w(gbm2).mean())\n",
        "gbm2.fit(X2_train2, y_train2)\n",
        "gbm2_pred = gbm2.predict(X2_test2)\n",
        "print('Gradiant Boosting Performance:')\n",
        "print('f1_score:', metrics.f1_score(y_test2, gbm2_pred, average='weighted'))\n",
        "print(classification_report(y_test2,gbm2_pred))\n",
        "print(confusion_matrix(y_test2, gbm2_pred))\n",
        "#fig = plt.figure(figsize=(10,8))\n",
        "#sns.heatmap(confusion_matrix(y_test2, gbm2_pred),annot = True,cmap='BrBG')\n",
        "#plt.show()\n",
        "\n",
        "\n",
        "# For Hyperparameters tuning:\n",
        "# gbm_param_grid = {'learning_rate':[0.1, 0.01, 0.001], \n",
        "#             'n_estimators':[100, 300, 500, 1000],\n",
        "#           'max_depth':[3, 5, 8],\n",
        "#           'min_samples_split':[10, 20],\n",
        "#           'max_features':[4, 7]}\n",
        "# gbm_tuning = GridSearchCV(estimator =GradientBoostingClassifier(random_state=1996),\n",
        "#                           param_grid = gbm_param_grid, verbose = True,\n",
        "#                           n_jobs=-1, scoring='f1_weighted'\n",
        "#                           cv=5, refit = True)\n",
        "# gbm_tuning.fit(X_train,y_train)\n",
        "# print(gbm_tuning.best_params_)\n",
        "# print(gbm_tuning.best_estimator_)\n",
        "# (Not performed here because of computational and time issue)"
      ],
      "execution_count": null,
      "outputs": []
    },
    {
      "cell_type": "code",
      "metadata": {
        "id": "cYM52zxBvb78"
      },
      "source": [
        "E = []\n",
        "for i in range(1,101):\n",
        "    knn = KNeighborsClassifier(n_neighbors=i,weights = 'distance')\n",
        "    knn.fit(X_train2, y_train2)\n",
        "    knn_preds = knn.predict(X_test2)\n",
        "    E.append(metrics.f1_score(y_test2, knn_preds, average='weighted'))\n",
        "\n",
        "fig = plt.figure(figsize=(10,8))    \n",
        "plt.plot(range(1,101), E, ls = '--',lw = 2 , markersize = 4, marker = 'o', markerfacecolor = 'red',color = 'blue')\n",
        "plt.grid()"
      ],
      "execution_count": null,
      "outputs": []
    },
    {
      "cell_type": "code",
      "metadata": {
        "id": "y3NAAzu0vb79"
      },
      "source": [
        "knn = KNeighborsClassifier(n_neighbors=12,weights = 'distance')\n",
        "print(cv_f1_w(knn).mean())\n",
        "knn.fit(X2_train2, y_train2)\n",
        "knn_pred = knn.predict(X2_test2)\n",
        "print('KNeighborsClassifier Performance:')\n",
        "print('f1_score:', metrics.f1_score(y_test2, knn_pred, average='weighted'))\n",
        "print(classification_report(y_test2,knn_pred))\n",
        "print(confusion_matrix(y_test2, knn_pred))\n",
        "#fig = plt.figure(figsize=(10,8))\n",
        "#sns.heatmap(confusion_matrix(y_test2, knn_pred),annot = True,cmap='BrBG')\n",
        "#plt.show()"
      ],
      "execution_count": null,
      "outputs": []
    },
    {
      "cell_type": "code",
      "metadata": {
        "id": "rVDBHfRhvb79"
      },
      "source": [
        "lgbc2 = lgb.LGBMClassifier()\n",
        "print(cv_f1_w(lgbc2).mean())\n",
        "lgbc2.fit(X2_train2, y_train2)\n",
        "lgbc2_pred = lgbc2.predict(X2_test2)\n",
        "print('LGBMClassifier Performance:')\n",
        "print('f1_score:', metrics.f1_score(y_test2, lgbc2_pred, average='weighted'))\n",
        "print(classification_report(y_test2,lgbc2_pred))\n",
        "print(confusion_matrix(y_test2, lgbc2_pred))\n",
        "#fig = plt.figure(figsize=(10,8))\n",
        "#sns.heatmap(confusion_matrix(y_test2, lgbc2_pred),annot = True,cmap='BrBG')\n",
        "#plt.show()"
      ],
      "execution_count": null,
      "outputs": []
    },
    {
      "cell_type": "raw",
      "metadata": {
        "id": "ke_5wb57vb79"
      },
      "source": [
        "cbr2 = cb.CatBoostClassifier(random_state=42)\n",
        "print(cv_f1_w(cbr2).mean())\n",
        "cbr2.fit(X2_train, y_train)\n",
        "cbr2_pred = cbr2.predict(X2_test)\n",
        "print('CatBoostClassifier Performance:')\n",
        "print('f1_score:', metrics.f1_score(y_test, cbr2_pred, average='weighted'))\n",
        "print(classification_report(y_test,cbr2_pred))\n",
        "print(confusion_matrix(y_test, cbr2_pred))\n",
        "fig = plt.figure(figsize=(10,8))\n",
        "sns.heatmap(confusion_matrix(y_test, cbr2_pred),annot = True,cmap='BrBG')\n",
        "plt.show()"
      ]
    },
    {
      "cell_type": "code",
      "metadata": {
        "id": "yUEWvSPavb7-"
      },
      "source": [
        "# Here I am using voting classifier with 'hard' voting\n",
        "vclf2 = VotingClassifier([('bgc2',bgc2),('svr2',svr2),('ada2',ada2),('ss2',ss2),\n",
        "                         ('gbm2',gbm2),('rf2',rf2)], \n",
        "                          voting='hard')\n",
        "print(cv_f1_w(vclf2).mean())\n",
        "vclf2.fit(X2_train2, y_train2)\n",
        "vclf2_pred = vclf2.predict(X2_test2)\n",
        "# prob = vclf2.predict_proba(X2_test2)\n",
        "print('VotingClassifier Performance:')\n",
        "print('f1_score:', metrics.f1_score(y_test2, vclf2_pred, average = 'weighted'))\n",
        "print('accuracy_score:', metrics.accuracy_score(y_test2, vclf2_pred))\n",
        "print(classification_report(y_test2,vclf2_pred))\n",
        "print(confusion_matrix(y_test2, vclf2_pred))\n",
        "fig = plt.figure(figsize=(10,8))\n",
        "sns.heatmap(confusion_matrix(y_test2, vclf2_pred),annot = True,cmap='BrBG')\n",
        "plt.show()"
      ],
      "execution_count": null,
      "outputs": []
    },
    {
      "cell_type": "markdown",
      "metadata": {
        "id": "nY-8t3NSvb7-"
      },
      "source": [
        "# Submission:"
      ]
    },
    {
      "cell_type": "code",
      "metadata": {
        "id": "E5KQ2Fm5vb7_"
      },
      "source": [
        "sub = pd.DataFrame()\n",
        "test_data = pd.read_csv('test.csv')\n",
        "sub['pet_id'] = test_data['pet_id']\n",
        "sub['pet_category'] = vclf.predict(test1)\n",
        "sub['breed_category'] = vclf2.predict(test2)\n",
        "\n",
        "# 91.01855\n",
        "sub.to_csv('Submission.csv', index = False)\n"
      ],
      "execution_count": null,
      "outputs": []
    },
    {
      "cell_type": "markdown",
      "metadata": {
        "id": "yRL_NHcZvb7_"
      },
      "source": [
        "# Saving model:\n"
      ]
    },
    {
      "cell_type": "raw",
      "metadata": {
        "id": "4DraWjLhvb7_"
      },
      "source": [
        "\n",
        "import pickle \n",
        "# save the model to disk\n",
        "# pickle.dump(vclf2, open('vclf2_anova2.pkl', 'wb'))\n",
        "# pickle.dump(vclf, open('vclf_anova2.pkl', 'wb'))\n",
        " \n",
        " \n",
        "# Loading the model from disk\n",
        "loaded_model = pickle.load(open('vclf_anova.pkl', 'rb'))\n",
        "loaded_model2 = pickle.load(open('vclf2_anova.pkl', 'rb'))\n",
        "\n",
        "# Predictions\n",
        "sub = pd.DataFrame()\n",
        "sssss = pd.read_csv('test.csv')\n",
        "sub['pet_id'] = sssss['pet_id']\n",
        "sub['pet_category'] = loaded_model.predict(test1)\n",
        "sub['breed_category'] = loaded_model2.predict(test2)\n",
        "# vclf: 90.90651 with all features\n",
        "# vcl_Anova: 90.99165 Anova with 20 Kbest features for model2\n",
        "sub.to_csv('Submission.csv', index = False)\n"
      ]
    },
    {
      "cell_type": "markdown",
      "metadata": {
        "id": "uMBSFdPVvb7_"
      },
      "source": [
        "I have also tried oversampling with SMOTETomek, but it did not gave me good weighted f1_score as shown below:"
      ]
    },
    {
      "cell_type": "raw",
      "metadata": {
        "id": "gRR8kNxqvb8A"
      },
      "source": [
        "#Before Oversampling:\n",
        "#RF     90.89244\n",
        "#CBR    90.72839\n",
        "#LBGC   90.39653\n",
        "#XGBC   90.12341\n",
        "#ExTR   90.01959\n",
        "#SVR    89.60295\n",
        "#VCL    91.01855\n",
        "#DT     89.34111\n",
        "#GBM    90.32143\n",
        "#LR     89.50139\n",
        "\n",
        "#After Oversampling:\n",
        "#RF     88.39323\n",
        "#CBR    88.62066\n",
        "#SVR    87.30375\n",
        "#LR     87.16505\n",
        "#VCLF   88.76998\n",
        "#XGBC   87.90807\n",
        "#LBGC   87.43654\n",
        "#GBM    86.11127\n",
        "#DT     77.49782\n"
      ]
    },
    {
      "cell_type": "markdown",
      "metadata": {
        "id": "qM9XjUtWvb8A"
      },
      "source": [
        "Future scope:\n",
        "\n",
        "    data leakage\n",
        "    splitting at same time for both targets\n",
        "    Hyperparameter tuning\n",
        "    Finding more anamolies by EDA\n",
        "    Particularly Outliers handling with iqr and z-score methods"
      ]
    },
    {
      "cell_type": "code",
      "metadata": {
        "id": "YoUTRj8Pvb8A"
      },
      "source": [
        ""
      ],
      "execution_count": null,
      "outputs": []
    }
  ]
}